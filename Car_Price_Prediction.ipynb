{
  "nbformat": 4,
  "nbformat_minor": 0,
  "metadata": {
    "colab": {
      "name": "Car_Price_Prediction.ipynb",
      "provenance": [],
      "collapsed_sections": [
        "bbT8Rpa6ZsGv",
        "c7TjFcs8agf8",
        "nbGjIfSaGa7w",
        "zJOmYWeMKor5",
        "Ua2kEtwUOrH-",
        "sUgTx3_QSF-Z",
        "AutA2eKqOjLl",
        "B0gaL1EuZkvH",
        "2AV7kr-wegMv"
      ],
      "toc_visible": true,
      "mount_file_id": "1i1lh7Kmnu6W_TIwETKOCyU7TUMqb-4ih",
      "authorship_tag": "ABX9TyNxmww1iy27NiuOyyYNRZM1",
      "include_colab_link": true
    },
    "kernelspec": {
      "name": "python3",
      "display_name": "Python 3"
    },
    "language_info": {
      "name": "python"
    },
    "widgets": {
      "application/vnd.jupyter.widget-state+json": {
        "f3080ff427754d259922aae187fa4a1d": {
          "model_module": "@jupyter-widgets/controls",
          "model_name": "HBoxModel",
          "model_module_version": "1.5.0",
          "state": {
            "_view_name": "HBoxView",
            "_dom_classes": [],
            "_model_name": "HBoxModel",
            "_view_module": "@jupyter-widgets/controls",
            "_model_module_version": "1.5.0",
            "_view_count": null,
            "_view_module_version": "1.5.0",
            "box_style": "",
            "layout": "IPY_MODEL_ae04f988e0864adfa4df86d60ab2fdb9",
            "_model_module": "@jupyter-widgets/controls",
            "children": [
              "IPY_MODEL_d864e72eca974b5d839d81bec419d367",
              "IPY_MODEL_bf635a60e71d4afe8fe94f23984cd61f",
              "IPY_MODEL_61a27593f0c34be9ae6db5f84067b22f"
            ]
          }
        },
        "ae04f988e0864adfa4df86d60ab2fdb9": {
          "model_module": "@jupyter-widgets/base",
          "model_name": "LayoutModel",
          "model_module_version": "1.2.0",
          "state": {
            "_view_name": "LayoutView",
            "grid_template_rows": null,
            "right": null,
            "justify_content": null,
            "_view_module": "@jupyter-widgets/base",
            "overflow": null,
            "_model_module_version": "1.2.0",
            "_view_count": null,
            "flex_flow": null,
            "width": null,
            "min_width": null,
            "border": null,
            "align_items": null,
            "bottom": null,
            "_model_module": "@jupyter-widgets/base",
            "top": null,
            "grid_column": null,
            "overflow_y": null,
            "overflow_x": null,
            "grid_auto_flow": null,
            "grid_area": null,
            "grid_template_columns": null,
            "flex": null,
            "_model_name": "LayoutModel",
            "justify_items": null,
            "grid_row": null,
            "max_height": null,
            "align_content": null,
            "visibility": null,
            "align_self": null,
            "height": null,
            "min_height": null,
            "padding": null,
            "grid_auto_rows": null,
            "grid_gap": null,
            "max_width": null,
            "order": null,
            "_view_module_version": "1.2.0",
            "grid_template_areas": null,
            "object_position": null,
            "object_fit": null,
            "grid_auto_columns": null,
            "margin": null,
            "display": null,
            "left": null
          }
        },
        "d864e72eca974b5d839d81bec419d367": {
          "model_module": "@jupyter-widgets/controls",
          "model_name": "HTMLModel",
          "model_module_version": "1.5.0",
          "state": {
            "_view_name": "HTMLView",
            "style": "IPY_MODEL_c29a81eb1d54481696d0a7e483a2cea9",
            "_dom_classes": [],
            "description": "",
            "_model_name": "HTMLModel",
            "placeholder": "​",
            "_view_module": "@jupyter-widgets/controls",
            "_model_module_version": "1.5.0",
            "value": "100%",
            "_view_count": null,
            "_view_module_version": "1.5.0",
            "description_tooltip": null,
            "_model_module": "@jupyter-widgets/controls",
            "layout": "IPY_MODEL_d86b98a263de477086898b302fea8f37"
          }
        },
        "bf635a60e71d4afe8fe94f23984cd61f": {
          "model_module": "@jupyter-widgets/controls",
          "model_name": "FloatProgressModel",
          "model_module_version": "1.5.0",
          "state": {
            "_view_name": "ProgressView",
            "style": "IPY_MODEL_ac29a971f886462cbf2a390c832d3bbf",
            "_dom_classes": [],
            "description": "",
            "_model_name": "FloatProgressModel",
            "bar_style": "success",
            "max": 10,
            "_view_module": "@jupyter-widgets/controls",
            "_model_module_version": "1.5.0",
            "value": 10,
            "_view_count": null,
            "_view_module_version": "1.5.0",
            "orientation": "horizontal",
            "min": 0,
            "description_tooltip": null,
            "_model_module": "@jupyter-widgets/controls",
            "layout": "IPY_MODEL_f907578e70c5460d8923ea1dfbea1219"
          }
        },
        "61a27593f0c34be9ae6db5f84067b22f": {
          "model_module": "@jupyter-widgets/controls",
          "model_name": "HTMLModel",
          "model_module_version": "1.5.0",
          "state": {
            "_view_name": "HTMLView",
            "style": "IPY_MODEL_7f69dbd9c58848bc8cf3dfb96bbba4d3",
            "_dom_classes": [],
            "description": "",
            "_model_name": "HTMLModel",
            "placeholder": "​",
            "_view_module": "@jupyter-widgets/controls",
            "_model_module_version": "1.5.0",
            "value": " 10/10 [02:04&lt;00:00, 12.46s/it]",
            "_view_count": null,
            "_view_module_version": "1.5.0",
            "description_tooltip": null,
            "_model_module": "@jupyter-widgets/controls",
            "layout": "IPY_MODEL_dcbec6f677d247d3b190bd53a8e96e59"
          }
        },
        "c29a81eb1d54481696d0a7e483a2cea9": {
          "model_module": "@jupyter-widgets/controls",
          "model_name": "DescriptionStyleModel",
          "model_module_version": "1.5.0",
          "state": {
            "_view_name": "StyleView",
            "_model_name": "DescriptionStyleModel",
            "description_width": "",
            "_view_module": "@jupyter-widgets/base",
            "_model_module_version": "1.5.0",
            "_view_count": null,
            "_view_module_version": "1.2.0",
            "_model_module": "@jupyter-widgets/controls"
          }
        },
        "d86b98a263de477086898b302fea8f37": {
          "model_module": "@jupyter-widgets/base",
          "model_name": "LayoutModel",
          "model_module_version": "1.2.0",
          "state": {
            "_view_name": "LayoutView",
            "grid_template_rows": null,
            "right": null,
            "justify_content": null,
            "_view_module": "@jupyter-widgets/base",
            "overflow": null,
            "_model_module_version": "1.2.0",
            "_view_count": null,
            "flex_flow": null,
            "width": null,
            "min_width": null,
            "border": null,
            "align_items": null,
            "bottom": null,
            "_model_module": "@jupyter-widgets/base",
            "top": null,
            "grid_column": null,
            "overflow_y": null,
            "overflow_x": null,
            "grid_auto_flow": null,
            "grid_area": null,
            "grid_template_columns": null,
            "flex": null,
            "_model_name": "LayoutModel",
            "justify_items": null,
            "grid_row": null,
            "max_height": null,
            "align_content": null,
            "visibility": null,
            "align_self": null,
            "height": null,
            "min_height": null,
            "padding": null,
            "grid_auto_rows": null,
            "grid_gap": null,
            "max_width": null,
            "order": null,
            "_view_module_version": "1.2.0",
            "grid_template_areas": null,
            "object_position": null,
            "object_fit": null,
            "grid_auto_columns": null,
            "margin": null,
            "display": null,
            "left": null
          }
        },
        "ac29a971f886462cbf2a390c832d3bbf": {
          "model_module": "@jupyter-widgets/controls",
          "model_name": "ProgressStyleModel",
          "model_module_version": "1.5.0",
          "state": {
            "_view_name": "StyleView",
            "_model_name": "ProgressStyleModel",
            "description_width": "",
            "_view_module": "@jupyter-widgets/base",
            "_model_module_version": "1.5.0",
            "_view_count": null,
            "_view_module_version": "1.2.0",
            "bar_color": null,
            "_model_module": "@jupyter-widgets/controls"
          }
        },
        "f907578e70c5460d8923ea1dfbea1219": {
          "model_module": "@jupyter-widgets/base",
          "model_name": "LayoutModel",
          "model_module_version": "1.2.0",
          "state": {
            "_view_name": "LayoutView",
            "grid_template_rows": null,
            "right": null,
            "justify_content": null,
            "_view_module": "@jupyter-widgets/base",
            "overflow": null,
            "_model_module_version": "1.2.0",
            "_view_count": null,
            "flex_flow": null,
            "width": null,
            "min_width": null,
            "border": null,
            "align_items": null,
            "bottom": null,
            "_model_module": "@jupyter-widgets/base",
            "top": null,
            "grid_column": null,
            "overflow_y": null,
            "overflow_x": null,
            "grid_auto_flow": null,
            "grid_area": null,
            "grid_template_columns": null,
            "flex": null,
            "_model_name": "LayoutModel",
            "justify_items": null,
            "grid_row": null,
            "max_height": null,
            "align_content": null,
            "visibility": null,
            "align_self": null,
            "height": null,
            "min_height": null,
            "padding": null,
            "grid_auto_rows": null,
            "grid_gap": null,
            "max_width": null,
            "order": null,
            "_view_module_version": "1.2.0",
            "grid_template_areas": null,
            "object_position": null,
            "object_fit": null,
            "grid_auto_columns": null,
            "margin": null,
            "display": null,
            "left": null
          }
        },
        "7f69dbd9c58848bc8cf3dfb96bbba4d3": {
          "model_module": "@jupyter-widgets/controls",
          "model_name": "DescriptionStyleModel",
          "model_module_version": "1.5.0",
          "state": {
            "_view_name": "StyleView",
            "_model_name": "DescriptionStyleModel",
            "description_width": "",
            "_view_module": "@jupyter-widgets/base",
            "_model_module_version": "1.5.0",
            "_view_count": null,
            "_view_module_version": "1.2.0",
            "_model_module": "@jupyter-widgets/controls"
          }
        },
        "dcbec6f677d247d3b190bd53a8e96e59": {
          "model_module": "@jupyter-widgets/base",
          "model_name": "LayoutModel",
          "model_module_version": "1.2.0",
          "state": {
            "_view_name": "LayoutView",
            "grid_template_rows": null,
            "right": null,
            "justify_content": null,
            "_view_module": "@jupyter-widgets/base",
            "overflow": null,
            "_model_module_version": "1.2.0",
            "_view_count": null,
            "flex_flow": null,
            "width": null,
            "min_width": null,
            "border": null,
            "align_items": null,
            "bottom": null,
            "_model_module": "@jupyter-widgets/base",
            "top": null,
            "grid_column": null,
            "overflow_y": null,
            "overflow_x": null,
            "grid_auto_flow": null,
            "grid_area": null,
            "grid_template_columns": null,
            "flex": null,
            "_model_name": "LayoutModel",
            "justify_items": null,
            "grid_row": null,
            "max_height": null,
            "align_content": null,
            "visibility": null,
            "align_self": null,
            "height": null,
            "min_height": null,
            "padding": null,
            "grid_auto_rows": null,
            "grid_gap": null,
            "max_width": null,
            "order": null,
            "_view_module_version": "1.2.0",
            "grid_template_areas": null,
            "object_position": null,
            "object_fit": null,
            "grid_auto_columns": null,
            "margin": null,
            "display": null,
            "left": null
          }
        }
      }
    }
  },
  "cells": [
    {
      "cell_type": "markdown",
      "metadata": {
        "id": "view-in-github",
        "colab_type": "text"
      },
      "source": [
        "<a href=\"https://colab.research.google.com/github/sultanbst123/MachineHack_CarPrice/blob/main/Car_Price_Prediction.ipynb\" target=\"_parent\"><img src=\"https://colab.research.google.com/assets/colab-badge.svg\" alt=\"Open In Colab\"/></a>"
      ]
    },
    {
      "cell_type": "markdown",
      "metadata": {
        "id": "7gTeBAtUZwgM"
      },
      "source": [
        "# Data modelling with Python"
      ]
    },
    {
      "cell_type": "markdown",
      "metadata": {
        "id": "bbT8Rpa6ZsGv"
      },
      "source": [
        "## Library & File"
      ]
    },
    {
      "cell_type": "code",
      "metadata": {
        "colab": {
          "base_uri": "https://localhost:8080/"
        },
        "id": "VSAf7KLtYnLA",
        "outputId": "81dfc921-0311-41a3-9feb-afbf7afa84bc"
      },
      "source": [
        "!pip install --upgrade scikit-learn"
      ],
      "execution_count": null,
      "outputs": [
        {
          "output_type": "stream",
          "name": "stdout",
          "text": [
            "Requirement already satisfied: scikit-learn in /usr/local/lib/python3.7/dist-packages (0.22.2.post1)\n",
            "Collecting scikit-learn\n",
            "  Downloading scikit_learn-1.0-cp37-cp37m-manylinux_2_12_x86_64.manylinux2010_x86_64.whl (23.1 MB)\n",
            "\u001b[K     |████████████████████████████████| 23.1 MB 80.6 MB/s \n",
            "\u001b[?25hRequirement already satisfied: numpy>=1.14.6 in /usr/local/lib/python3.7/dist-packages (from scikit-learn) (1.19.5)\n",
            "Requirement already satisfied: joblib>=0.11 in /usr/local/lib/python3.7/dist-packages (from scikit-learn) (1.0.1)\n",
            "Requirement already satisfied: scipy>=1.1.0 in /usr/local/lib/python3.7/dist-packages (from scikit-learn) (1.4.1)\n",
            "Collecting threadpoolctl>=2.0.0\n",
            "  Downloading threadpoolctl-3.0.0-py3-none-any.whl (14 kB)\n",
            "Installing collected packages: threadpoolctl, scikit-learn\n",
            "  Attempting uninstall: scikit-learn\n",
            "    Found existing installation: scikit-learn 0.22.2.post1\n",
            "    Uninstalling scikit-learn-0.22.2.post1:\n",
            "      Successfully uninstalled scikit-learn-0.22.2.post1\n",
            "Successfully installed scikit-learn-1.0 threadpoolctl-3.0.0\n"
          ]
        }
      ]
    },
    {
      "cell_type": "code",
      "metadata": {
        "colab": {
          "base_uri": "https://localhost:8080/"
        },
        "id": "V3PdhsEcZVpa",
        "outputId": "c4588557-ef21-4f8c-f53f-5bb6e647a7ea"
      },
      "source": [
        "!pip install catboost\n",
        "!pip install optuna\n",
        "!pip install borutashap"
      ],
      "execution_count": null,
      "outputs": [
        {
          "output_type": "stream",
          "name": "stdout",
          "text": [
            "Collecting catboost\n",
            "  Downloading catboost-1.0.0-cp37-none-manylinux1_x86_64.whl (76.4 MB)\n",
            "\u001b[K     |████████████████████████████████| 76.4 MB 22 kB/s \n",
            "\u001b[?25hRequirement already satisfied: pandas>=0.24.0 in /usr/local/lib/python3.7/dist-packages (from catboost) (1.1.5)\n",
            "Requirement already satisfied: graphviz in /usr/local/lib/python3.7/dist-packages (from catboost) (0.10.1)\n",
            "Requirement already satisfied: six in /usr/local/lib/python3.7/dist-packages (from catboost) (1.15.0)\n",
            "Requirement already satisfied: scipy in /usr/local/lib/python3.7/dist-packages (from catboost) (1.4.1)\n",
            "Requirement already satisfied: plotly in /usr/local/lib/python3.7/dist-packages (from catboost) (4.4.1)\n",
            "Requirement already satisfied: matplotlib in /usr/local/lib/python3.7/dist-packages (from catboost) (3.2.2)\n",
            "Requirement already satisfied: numpy>=1.16.0 in /usr/local/lib/python3.7/dist-packages (from catboost) (1.19.5)\n",
            "Requirement already satisfied: pytz>=2017.2 in /usr/local/lib/python3.7/dist-packages (from pandas>=0.24.0->catboost) (2018.9)\n",
            "Requirement already satisfied: python-dateutil>=2.7.3 in /usr/local/lib/python3.7/dist-packages (from pandas>=0.24.0->catboost) (2.8.2)\n",
            "Requirement already satisfied: cycler>=0.10 in /usr/local/lib/python3.7/dist-packages (from matplotlib->catboost) (0.10.0)\n",
            "Requirement already satisfied: pyparsing!=2.0.4,!=2.1.2,!=2.1.6,>=2.0.1 in /usr/local/lib/python3.7/dist-packages (from matplotlib->catboost) (2.4.7)\n",
            "Requirement already satisfied: kiwisolver>=1.0.1 in /usr/local/lib/python3.7/dist-packages (from matplotlib->catboost) (1.3.2)\n",
            "Requirement already satisfied: retrying>=1.3.3 in /usr/local/lib/python3.7/dist-packages (from plotly->catboost) (1.3.3)\n",
            "Installing collected packages: catboost\n",
            "Successfully installed catboost-1.0.0\n",
            "Collecting optuna\n",
            "  Downloading optuna-2.10.0-py3-none-any.whl (308 kB)\n",
            "\u001b[K     |████████████████████████████████| 308 kB 5.1 MB/s \n",
            "\u001b[?25hCollecting colorlog\n",
            "  Downloading colorlog-6.5.0-py2.py3-none-any.whl (11 kB)\n",
            "Requirement already satisfied: sqlalchemy>=1.1.0 in /usr/local/lib/python3.7/dist-packages (from optuna) (1.4.25)\n",
            "Collecting alembic\n",
            "  Downloading alembic-1.7.4-py3-none-any.whl (209 kB)\n",
            "\u001b[K     |████████████████████████████████| 209 kB 45.7 MB/s \n",
            "\u001b[?25hRequirement already satisfied: scipy!=1.4.0 in /usr/local/lib/python3.7/dist-packages (from optuna) (1.4.1)\n",
            "Requirement already satisfied: numpy in /usr/local/lib/python3.7/dist-packages (from optuna) (1.19.5)\n",
            "Requirement already satisfied: packaging>=20.0 in /usr/local/lib/python3.7/dist-packages (from optuna) (21.0)\n",
            "Requirement already satisfied: PyYAML in /usr/local/lib/python3.7/dist-packages (from optuna) (3.13)\n",
            "Requirement already satisfied: tqdm in /usr/local/lib/python3.7/dist-packages (from optuna) (4.62.3)\n",
            "Collecting cmaes>=0.8.2\n",
            "  Downloading cmaes-0.8.2-py3-none-any.whl (15 kB)\n",
            "Collecting cliff\n",
            "  Downloading cliff-3.9.0-py3-none-any.whl (80 kB)\n",
            "\u001b[K     |████████████████████████████████| 80 kB 8.7 MB/s \n",
            "\u001b[?25hRequirement already satisfied: pyparsing>=2.0.2 in /usr/local/lib/python3.7/dist-packages (from packaging>=20.0->optuna) (2.4.7)\n",
            "Requirement already satisfied: importlib-metadata in /usr/local/lib/python3.7/dist-packages (from sqlalchemy>=1.1.0->optuna) (4.8.1)\n",
            "Requirement already satisfied: greenlet!=0.4.17 in /usr/local/lib/python3.7/dist-packages (from sqlalchemy>=1.1.0->optuna) (1.1.2)\n",
            "Requirement already satisfied: importlib-resources in /usr/local/lib/python3.7/dist-packages (from alembic->optuna) (5.2.2)\n",
            "Collecting Mako\n",
            "  Downloading Mako-1.1.5-py2.py3-none-any.whl (75 kB)\n",
            "\u001b[K     |████████████████████████████████| 75 kB 4.1 MB/s \n",
            "\u001b[?25hCollecting pbr!=2.1.0,>=2.0.0\n",
            "  Downloading pbr-5.6.0-py2.py3-none-any.whl (111 kB)\n",
            "\u001b[K     |████████████████████████████████| 111 kB 60.2 MB/s \n",
            "\u001b[?25hCollecting autopage>=0.4.0\n",
            "  Downloading autopage-0.4.0-py3-none-any.whl (20 kB)\n",
            "Collecting stevedore>=2.0.1\n",
            "  Downloading stevedore-3.5.0-py3-none-any.whl (49 kB)\n",
            "\u001b[K     |████████████████████████████████| 49 kB 5.7 MB/s \n",
            "\u001b[?25hCollecting cmd2>=1.0.0\n",
            "  Downloading cmd2-2.2.0-py3-none-any.whl (144 kB)\n",
            "\u001b[K     |████████████████████████████████| 144 kB 50.1 MB/s \n",
            "\u001b[?25hRequirement already satisfied: PrettyTable>=0.7.2 in /usr/local/lib/python3.7/dist-packages (from cliff->optuna) (2.2.1)\n",
            "Collecting pyperclip>=1.6\n",
            "  Downloading pyperclip-1.8.2.tar.gz (20 kB)\n",
            "Requirement already satisfied: attrs>=16.3.0 in /usr/local/lib/python3.7/dist-packages (from cmd2>=1.0.0->cliff->optuna) (21.2.0)\n",
            "Collecting colorama>=0.3.7\n",
            "  Downloading colorama-0.4.4-py2.py3-none-any.whl (16 kB)\n",
            "Requirement already satisfied: typing-extensions in /usr/local/lib/python3.7/dist-packages (from cmd2>=1.0.0->cliff->optuna) (3.7.4.3)\n",
            "Requirement already satisfied: wcwidth>=0.1.7 in /usr/local/lib/python3.7/dist-packages (from cmd2>=1.0.0->cliff->optuna) (0.2.5)\n",
            "Requirement already satisfied: zipp>=0.5 in /usr/local/lib/python3.7/dist-packages (from importlib-metadata->sqlalchemy>=1.1.0->optuna) (3.6.0)\n",
            "Requirement already satisfied: MarkupSafe>=0.9.2 in /usr/local/lib/python3.7/dist-packages (from Mako->alembic->optuna) (2.0.1)\n",
            "Building wheels for collected packages: pyperclip\n",
            "  Building wheel for pyperclip (setup.py) ... \u001b[?25l\u001b[?25hdone\n",
            "  Created wheel for pyperclip: filename=pyperclip-1.8.2-py3-none-any.whl size=11136 sha256=9578992d2cca9f8f13d683f3cbebd7598ec0463d37dd037ae1f7ab4b2f34c116\n",
            "  Stored in directory: /root/.cache/pip/wheels/9f/18/84/8f69f8b08169c7bae2dde6bd7daf0c19fca8c8e500ee620a28\n",
            "Successfully built pyperclip\n",
            "Installing collected packages: pyperclip, pbr, colorama, stevedore, Mako, cmd2, autopage, colorlog, cmaes, cliff, alembic, optuna\n",
            "Successfully installed Mako-1.1.5 alembic-1.7.4 autopage-0.4.0 cliff-3.9.0 cmaes-0.8.2 cmd2-2.2.0 colorama-0.4.4 colorlog-6.5.0 optuna-2.10.0 pbr-5.6.0 pyperclip-1.8.2 stevedore-3.5.0\n",
            "Collecting borutashap\n",
            "  Downloading BorutaShap-1.0.16-py3-none-any.whl (13 kB)\n",
            "Requirement already satisfied: pandas in /usr/local/lib/python3.7/dist-packages (from borutashap) (1.1.5)\n",
            "Collecting shap>=0.34.0\n",
            "  Downloading shap-0.40.0.tar.gz (371 kB)\n",
            "\u001b[K     |████████████████████████████████| 371 kB 5.8 MB/s \n",
            "\u001b[?25h  Installing build dependencies ... \u001b[?25l\u001b[?25hdone\n",
            "  Getting requirements to build wheel ... \u001b[?25l\u001b[?25hdone\n",
            "    Preparing wheel metadata ... \u001b[?25l\u001b[?25hdone\n",
            "Requirement already satisfied: seaborn in /usr/local/lib/python3.7/dist-packages (from borutashap) (0.11.2)\n",
            "Requirement already satisfied: matplotlib in /usr/local/lib/python3.7/dist-packages (from borutashap) (3.2.2)\n",
            "Requirement already satisfied: tqdm in /usr/local/lib/python3.7/dist-packages (from borutashap) (4.62.3)\n",
            "Requirement already satisfied: scikit-learn in /usr/local/lib/python3.7/dist-packages (from borutashap) (1.0)\n",
            "Requirement already satisfied: statsmodels in /usr/local/lib/python3.7/dist-packages (from borutashap) (0.10.2)\n",
            "Requirement already satisfied: numpy in /usr/local/lib/python3.7/dist-packages (from borutashap) (1.19.5)\n",
            "Requirement already satisfied: scipy in /usr/local/lib/python3.7/dist-packages (from borutashap) (1.4.1)\n",
            "Requirement already satisfied: numba in /usr/local/lib/python3.7/dist-packages (from shap>=0.34.0->borutashap) (0.51.2)\n",
            "Requirement already satisfied: packaging>20.9 in /usr/local/lib/python3.7/dist-packages (from shap>=0.34.0->borutashap) (21.0)\n",
            "Collecting slicer==0.0.7\n",
            "  Downloading slicer-0.0.7-py3-none-any.whl (14 kB)\n",
            "Requirement already satisfied: cloudpickle in /usr/local/lib/python3.7/dist-packages (from shap>=0.34.0->borutashap) (1.3.0)\n",
            "Requirement already satisfied: pyparsing>=2.0.2 in /usr/local/lib/python3.7/dist-packages (from packaging>20.9->shap>=0.34.0->borutashap) (2.4.7)\n",
            "Requirement already satisfied: python-dateutil>=2.1 in /usr/local/lib/python3.7/dist-packages (from matplotlib->borutashap) (2.8.2)\n",
            "Requirement already satisfied: cycler>=0.10 in /usr/local/lib/python3.7/dist-packages (from matplotlib->borutashap) (0.10.0)\n",
            "Requirement already satisfied: kiwisolver>=1.0.1 in /usr/local/lib/python3.7/dist-packages (from matplotlib->borutashap) (1.3.2)\n",
            "Requirement already satisfied: six in /usr/local/lib/python3.7/dist-packages (from cycler>=0.10->matplotlib->borutashap) (1.15.0)\n",
            "Requirement already satisfied: llvmlite<0.35,>=0.34.0.dev0 in /usr/local/lib/python3.7/dist-packages (from numba->shap>=0.34.0->borutashap) (0.34.0)\n",
            "Requirement already satisfied: setuptools in /usr/local/lib/python3.7/dist-packages (from numba->shap>=0.34.0->borutashap) (57.4.0)\n",
            "Requirement already satisfied: pytz>=2017.2 in /usr/local/lib/python3.7/dist-packages (from pandas->borutashap) (2018.9)\n",
            "Requirement already satisfied: joblib>=0.11 in /usr/local/lib/python3.7/dist-packages (from scikit-learn->borutashap) (1.0.1)\n",
            "Requirement already satisfied: threadpoolctl>=2.0.0 in /usr/local/lib/python3.7/dist-packages (from scikit-learn->borutashap) (3.0.0)\n",
            "Requirement already satisfied: patsy>=0.4.0 in /usr/local/lib/python3.7/dist-packages (from statsmodels->borutashap) (0.5.2)\n",
            "Building wheels for collected packages: shap\n",
            "  Building wheel for shap (PEP 517) ... \u001b[?25l\u001b[?25hdone\n",
            "  Created wheel for shap: filename=shap-0.40.0-cp37-cp37m-linux_x86_64.whl size=509238 sha256=c0fbb2b9b3bd4697265cb15a8fb223a2ff483a538eb4778a1a2117a81944e5f0\n",
            "  Stored in directory: /root/.cache/pip/wheels/ec/35/84/e304841ac4b910bc95fe9a6e5302eb2507b4333728851dcbfb\n",
            "Successfully built shap\n",
            "Installing collected packages: slicer, shap, borutashap\n",
            "Successfully installed borutashap-1.0.16 shap-0.40.0 slicer-0.0.7\n"
          ]
        }
      ]
    },
    {
      "cell_type": "code",
      "metadata": {
        "id": "qjwoSaGbZqdU",
        "colab": {
          "base_uri": "https://localhost:8080/"
        },
        "outputId": "8f45ff36-db6e-4f7d-c05c-df9ac42f3b2a"
      },
      "source": [
        "import pandas as pd\n",
        "import numpy as np\n",
        "import matplotlib.pyplot as plt\n",
        "import seaborn as sns\n",
        "import optuna\n",
        "from BorutaShap import BorutaShap\n",
        " \n",
        "# classification\n",
        "import xgboost, lightgbm, catboost\n",
        "from xgboost import XGBClassifier\n",
        "from catboost import CatBoostClassifier\n",
        "from lightgbm import LGBMClassifier\n",
        "from sklearn.tree import DecisionTreeClassifier, ExtraTreeClassifier\n",
        "from sklearn.ensemble import (RandomForestClassifier, StackingClassifier, GradientBoostingClassifier,\n",
        "                             AdaBoostClassifier, HistGradientBoostingClassifier) \n",
        "from sklearn.svm import SVC\n",
        "from sklearn.linear_model import LogisticRegression\n",
        "from sklearn.neighbors import KNeighborsClassifier\n",
        " \n",
        "# regression\n",
        "from xgboost import XGBRegressor\n",
        "from catboost import CatBoostRegressor\n",
        "from lightgbm import LGBMRegressor\n",
        "from sklearn.tree import DecisionTreeRegressor, ExtraTreeRegressor\n",
        "from sklearn.ensemble import (RandomForestRegressor, GradientBoostingRegressor,\n",
        "                             AdaBoostRegressor, HistGradientBoostingRegressor) \n",
        "from sklearn.svm import SVR\n",
        "from sklearn.linear_model import LinearRegression, Ridge, Lasso, ElasticNet, SGDOneClassSVM\n",
        "from sklearn.neighbors import KNeighborsRegressor\n",
        "\n",
        "#preprocessing\n",
        "from sklearn.model_selection import train_test_split, KFold, cross_val_score, StratifiedKFold, GridSearchCV\n",
        "from sklearn.metrics import (accuracy_score, classification_report, confusion_matrix, \n",
        "                            log_loss, roc_auc_score, plot_roc_curve,plot_confusion_matrix) \n",
        "from sklearn.metrics import mean_absolute_error, mean_squared_error, mean_squared_log_error\n",
        "from sklearn.preprocessing import LabelEncoder,OneHotEncoder, StandardScaler, MinMaxScaler, RobustScaler\n",
        "from sklearn.calibration import CalibrationDisplay\n",
        "\n",
        "\n",
        "import warnings\n",
        "warnings.filterwarnings(\"ignore\")\n",
        " \n",
        "%matplotlib inline"
      ],
      "execution_count": null,
      "outputs": [
        {
          "output_type": "stream",
          "name": "stderr",
          "text": [
            "/usr/local/lib/python3.7/dist-packages/statsmodels/tools/_testing.py:19: FutureWarning:\n",
            "\n",
            "pandas.util.testing is deprecated. Use the functions in the public API at pandas.testing instead.\n",
            "\n"
          ]
        }
      ]
    },
    {
      "cell_type": "code",
      "metadata": {
        "id": "E8302YdHZ7w9"
      },
      "source": [
        "train = pd.read_csv(\"/content/drive/MyDrive/Car price/train_Carprice(clean).csv\")\n",
        "test = pd.read_csv(\"/content/drive/MyDrive/Car price/test_Carprice(clean).csv\")"
      ],
      "execution_count": null,
      "outputs": []
    },
    {
      "cell_type": "code",
      "metadata": {
        "colab": {
          "base_uri": "https://localhost:8080/"
        },
        "id": "3a-OMnRVaPDP",
        "outputId": "451e9d11-8856-46f0-8531-ea4896db7e31"
      },
      "source": [
        "train.info()"
      ],
      "execution_count": null,
      "outputs": [
        {
          "output_type": "stream",
          "name": "stdout",
          "text": [
            "<class 'pandas.core.frame.DataFrame'>\n",
            "RangeIndex: 18664 entries, 0 to 18663\n",
            "Data columns (total 18 columns):\n",
            " #   Column            Non-Null Count  Dtype  \n",
            "---  ------            --------------  -----  \n",
            " 0   ID                18664 non-null  int64  \n",
            " 1   Price             18664 non-null  int64  \n",
            " 2   Levy              18664 non-null  int64  \n",
            " 3   Category          18664 non-null  object \n",
            " 4   Leather interior  18664 non-null  object \n",
            " 5   Fuel type         18664 non-null  object \n",
            " 6   Engine volume     18664 non-null  float64\n",
            " 7   Cylinders         18664 non-null  int64  \n",
            " 8   Gear box type     18664 non-null  object \n",
            " 9   Drive wheels      18664 non-null  object \n",
            " 10  Doors             18664 non-null  object \n",
            " 11  Wheel             18664 non-null  object \n",
            " 12  Color             18664 non-null  object \n",
            " 13  Airbags           18664 non-null  int64  \n",
            " 14  has_turbo         18664 non-null  object \n",
            " 15  new_prod_year     18664 non-null  object \n",
            " 16  age_car           18664 non-null  object \n",
            " 17  bin_mileage       18664 non-null  int64  \n",
            "dtypes: float64(1), int64(6), object(11)\n",
            "memory usage: 2.6+ MB\n"
          ]
        }
      ]
    },
    {
      "cell_type": "code",
      "metadata": {
        "colab": {
          "base_uri": "https://localhost:8080/"
        },
        "id": "gQB2U3hAaU_V",
        "outputId": "0b1b2e0c-370a-4f8f-8a52-ab1d4284f20f"
      },
      "source": [
        "train.head()"
      ],
      "execution_count": null,
      "outputs": [
        {
          "output_type": "execute_result",
          "data": {
            "text/html": [
              "<div>\n",
              "<style scoped>\n",
              "    .dataframe tbody tr th:only-of-type {\n",
              "        vertical-align: middle;\n",
              "    }\n",
              "\n",
              "    .dataframe tbody tr th {\n",
              "        vertical-align: top;\n",
              "    }\n",
              "\n",
              "    .dataframe thead th {\n",
              "        text-align: right;\n",
              "    }\n",
              "</style>\n",
              "<table border=\"1\" class=\"dataframe\">\n",
              "  <thead>\n",
              "    <tr style=\"text-align: right;\">\n",
              "      <th></th>\n",
              "      <th>ID</th>\n",
              "      <th>Price</th>\n",
              "      <th>Levy</th>\n",
              "      <th>Category</th>\n",
              "      <th>Leather interior</th>\n",
              "      <th>Fuel type</th>\n",
              "      <th>Engine volume</th>\n",
              "      <th>Cylinders</th>\n",
              "      <th>Gear box type</th>\n",
              "      <th>Drive wheels</th>\n",
              "      <th>Doors</th>\n",
              "      <th>Wheel</th>\n",
              "      <th>Color</th>\n",
              "      <th>Airbags</th>\n",
              "      <th>has_turbo</th>\n",
              "      <th>new_prod_year</th>\n",
              "      <th>age_car</th>\n",
              "      <th>bin_mileage</th>\n",
              "    </tr>\n",
              "  </thead>\n",
              "  <tbody>\n",
              "    <tr>\n",
              "      <th>0</th>\n",
              "      <td>3</td>\n",
              "      <td>13328</td>\n",
              "      <td>1399</td>\n",
              "      <td>Jeep</td>\n",
              "      <td>Yes</td>\n",
              "      <td>Hybrid</td>\n",
              "      <td>3.5</td>\n",
              "      <td>6</td>\n",
              "      <td>Automatic</td>\n",
              "      <td>4x4</td>\n",
              "      <td>04-May</td>\n",
              "      <td>Left wheel</td>\n",
              "      <td>Silver</td>\n",
              "      <td>12</td>\n",
              "      <td>no</td>\n",
              "      <td>&gt;2000</td>\n",
              "      <td>[0-25]</td>\n",
              "      <td>8</td>\n",
              "    </tr>\n",
              "    <tr>\n",
              "      <th>1</th>\n",
              "      <td>7</td>\n",
              "      <td>16621</td>\n",
              "      <td>1018</td>\n",
              "      <td>Jeep</td>\n",
              "      <td>No</td>\n",
              "      <td>Petrol</td>\n",
              "      <td>3.0</td>\n",
              "      <td>6</td>\n",
              "      <td>Tiptronic</td>\n",
              "      <td>4x4</td>\n",
              "      <td>04-May</td>\n",
              "      <td>Left wheel</td>\n",
              "      <td>Black</td>\n",
              "      <td>8</td>\n",
              "      <td>no</td>\n",
              "      <td>&gt;2000</td>\n",
              "      <td>[0-25]</td>\n",
              "      <td>8</td>\n",
              "    </tr>\n",
              "    <tr>\n",
              "      <th>2</th>\n",
              "      <td>9</td>\n",
              "      <td>8467</td>\n",
              "      <td>0</td>\n",
              "      <td>Hatchback</td>\n",
              "      <td>No</td>\n",
              "      <td>Petrol</td>\n",
              "      <td>1.3</td>\n",
              "      <td>4</td>\n",
              "      <td>Variator</td>\n",
              "      <td>Front</td>\n",
              "      <td>04-May</td>\n",
              "      <td>Right-hand drive</td>\n",
              "      <td>Black</td>\n",
              "      <td>2</td>\n",
              "      <td>no</td>\n",
              "      <td>&gt;2000</td>\n",
              "      <td>[0-25]</td>\n",
              "      <td>8</td>\n",
              "    </tr>\n",
              "    <tr>\n",
              "      <th>3</th>\n",
              "      <td>5</td>\n",
              "      <td>3607</td>\n",
              "      <td>862</td>\n",
              "      <td>Jeep</td>\n",
              "      <td>Yes</td>\n",
              "      <td>Hybrid</td>\n",
              "      <td>2.5</td>\n",
              "      <td>4</td>\n",
              "      <td>Automatic</td>\n",
              "      <td>4x4</td>\n",
              "      <td>04-May</td>\n",
              "      <td>Left wheel</td>\n",
              "      <td>White</td>\n",
              "      <td>0</td>\n",
              "      <td>no</td>\n",
              "      <td>&gt;2000</td>\n",
              "      <td>[0-25]</td>\n",
              "      <td>7</td>\n",
              "    </tr>\n",
              "    <tr>\n",
              "      <th>4</th>\n",
              "      <td>3</td>\n",
              "      <td>11726</td>\n",
              "      <td>446</td>\n",
              "      <td>Hatchback</td>\n",
              "      <td>Yes</td>\n",
              "      <td>Petrol</td>\n",
              "      <td>1.3</td>\n",
              "      <td>4</td>\n",
              "      <td>Automatic</td>\n",
              "      <td>Front</td>\n",
              "      <td>04-May</td>\n",
              "      <td>Left wheel</td>\n",
              "      <td>Silver</td>\n",
              "      <td>4</td>\n",
              "      <td>no</td>\n",
              "      <td>&gt;2000</td>\n",
              "      <td>[0-25]</td>\n",
              "      <td>4</td>\n",
              "    </tr>\n",
              "  </tbody>\n",
              "</table>\n",
              "</div>"
            ],
            "text/plain": [
              "   ID  Price  Levy   Category  ... has_turbo new_prod_year  age_car  bin_mileage\n",
              "0   3  13328  1399       Jeep  ...        no         >2000   [0-25]            8\n",
              "1   7  16621  1018       Jeep  ...        no         >2000   [0-25]            8\n",
              "2   9   8467     0  Hatchback  ...        no         >2000   [0-25]            8\n",
              "3   5   3607   862       Jeep  ...        no         >2000   [0-25]            7\n",
              "4   3  11726   446  Hatchback  ...        no         >2000   [0-25]            4\n",
              "\n",
              "[5 rows x 18 columns]"
            ]
          },
          "metadata": {},
          "execution_count": 6
        }
      ]
    },
    {
      "cell_type": "markdown",
      "metadata": {
        "id": "c7TjFcs8agf8"
      },
      "source": [
        "## Split train & validation"
      ]
    },
    {
      "cell_type": "code",
      "metadata": {
        "id": "AXhBtQrVa8fm"
      },
      "source": [
        "# ambil columns category\n",
        "\n",
        "cater = train.select_dtypes(exclude=\"number\").columns"
      ],
      "execution_count": null,
      "outputs": []
    },
    {
      "cell_type": "code",
      "metadata": {
        "id": "JGLnGJNFbJrL"
      },
      "source": [
        "train[cater] = train[cater].astype(\"category\")"
      ],
      "execution_count": null,
      "outputs": []
    },
    {
      "cell_type": "code",
      "metadata": {
        "id": "z07O47jGafjS"
      },
      "source": [
        "tester = test\n",
        "\n",
        "x = train.drop(\"Price\", axis=1)\n",
        "y = np.log(train.Price) # normalkan target"
      ],
      "execution_count": null,
      "outputs": []
    },
    {
      "cell_type": "code",
      "metadata": {
        "id": "z3UmXx_9arT0"
      },
      "source": [
        "x_train,x_val,y_train,y_val = train_test_split(x, y,test_size=0.2,random_state=2012)"
      ],
      "execution_count": null,
      "outputs": []
    },
    {
      "cell_type": "markdown",
      "metadata": {
        "id": "nbGjIfSaGa7w"
      },
      "source": [
        "## Feature Selection with LGBM & test"
      ]
    },
    {
      "cell_type": "code",
      "metadata": {
        "colab": {
          "base_uri": "https://localhost:8080/"
        },
        "id": "kGZ6yB1ybq9X",
        "outputId": "2b639fbb-ed34-42ef-eeb3-5e6c8663ed1d"
      },
      "source": [
        "# test dengan lgbm \n",
        "\n",
        "LGBM = LGBMRegressor(random_state=29)\n",
        "LGBM.fit(x_train, y_train)"
      ],
      "execution_count": null,
      "outputs": [
        {
          "output_type": "execute_result",
          "data": {
            "text/plain": [
              "LGBMRegressor(random_state=29)"
            ]
          },
          "metadata": {},
          "execution_count": 34
        }
      ]
    },
    {
      "cell_type": "code",
      "metadata": {
        "id": "OTOZU1hYFiZa"
      },
      "source": [
        "# function for rmsle, rmse & mae \n",
        "\n",
        "def rmsle(y_true, y_pred): \n",
        "    rmsle = mean_squared_log_error(np.exp(y_true), np.exp(y_pred), squared=False)\n",
        "    return rmsle\n",
        "\n",
        "def rmse(y_true, y_pred):\n",
        "    rmse = mean_squared_error(np.exp(y_true), np.exp(y_pred), squared=False)\n",
        "    return rmse\n",
        "\n",
        "def mae(y_true, y_pred):\n",
        "    mae = mean_absolute_error(np.exp(y_true), np.exp(y_pred))\n",
        "    return mae"
      ],
      "execution_count": null,
      "outputs": []
    },
    {
      "cell_type": "code",
      "metadata": {
        "id": "SA0Q--lTHwbl"
      },
      "source": [
        "pred = LGBM.predict(x_val)"
      ],
      "execution_count": null,
      "outputs": []
    },
    {
      "cell_type": "code",
      "metadata": {
        "colab": {
          "base_uri": "https://localhost:8080/"
        },
        "id": "V5BmVzi4KEkj",
        "outputId": "955137ef-0650-4d2c-d80a-3e5161241227"
      },
      "source": [
        "print(f\"rmsle: {rmsle(pred,y_val)}\")\n",
        "print(f\"mae: {mae(pred,y_val)}\")\n",
        "print(f\"rmse: {rmse(pred,y_val)}\")"
      ],
      "execution_count": null,
      "outputs": [
        {
          "output_type": "stream",
          "name": "stdout",
          "text": [
            "rmsle: 1.047484086745919\n",
            "mae: 7283.7109872306855\n",
            "rmse: 14033.253425277675\n"
          ]
        }
      ]
    },
    {
      "cell_type": "code",
      "metadata": {
        "id": "bzQMdZMvHebd"
      },
      "source": [
        "# Feature selection with borutshap + LGBM \n",
        "\n",
        "FS = BorutaShap(model = LGBM, \n",
        "                importance_measure=\"shap\", \n",
        "                classification=False)"
      ],
      "execution_count": null,
      "outputs": []
    },
    {
      "cell_type": "code",
      "metadata": {
        "colab": {
          "base_uri": "https://localhost:8080/",
          "referenced_widgets": [
            "f3080ff427754d259922aae187fa4a1d",
            "ae04f988e0864adfa4df86d60ab2fdb9",
            "d864e72eca974b5d839d81bec419d367",
            "bf635a60e71d4afe8fe94f23984cd61f",
            "61a27593f0c34be9ae6db5f84067b22f",
            "c29a81eb1d54481696d0a7e483a2cea9",
            "d86b98a263de477086898b302fea8f37",
            "ac29a971f886462cbf2a390c832d3bbf",
            "f907578e70c5460d8923ea1dfbea1219",
            "7f69dbd9c58848bc8cf3dfb96bbba4d3",
            "dcbec6f677d247d3b190bd53a8e96e59"
          ]
        },
        "id": "efoopZImIMIX",
        "outputId": "46a59331-0991-4b34-eb00-fcbaca1a2f1f"
      },
      "source": [
        "# fit \n",
        "FS.fit(X=x_train, y=y_train, n_trials=10, random_state=0)"
      ],
      "execution_count": null,
      "outputs": [
        {
          "output_type": "display_data",
          "data": {
            "application/vnd.jupyter.widget-view+json": {
              "model_id": "f3080ff427754d259922aae187fa4a1d",
              "version_minor": 0,
              "version_major": 2
            },
            "text/plain": [
              "  0%|          | 0/10 [00:00<?, ?it/s]"
            ]
          },
          "metadata": {}
        },
        {
          "output_type": "stream",
          "name": "stdout",
          "text": [
            "11 attributes confirmed important: ['bin_mileage', 'has_turbo', 'Wheel', 'Leather interior', 'Category', 'Engine volume', 'Gear box type', 'Airbags', 'Fuel type', 'Levy', 'Color']\n",
            "4 attributes confirmed unimportant: ['Doors', 'ID', 'Drive wheels', 'age_car']\n",
            "2 tentative attributes remains: ['new_prod_year', 'Cylinders']\n"
          ]
        }
      ]
    },
    {
      "cell_type": "code",
      "metadata": {
        "colab": {
          "base_uri": "https://localhost:8080/"
        },
        "id": "jrbCBxXHJBto",
        "outputId": "5177aa5e-20d5-479c-ca50-25731fc014be"
      },
      "source": [
        "FS.plot(which_features='all', figsize=(24,12))"
      ],
      "execution_count": null,
      "outputs": [
        {
          "output_type": "display_data",
          "data": {
            "image/png": "[encoded data removed]",
            "text/plain": [
              "<Figure size 1728x864 with 1 Axes>"
            ]
          },
          "metadata": {
            "needs_background": "light"
          }
        }
      ]
    },
    {
      "cell_type": "code",
      "metadata": {
        "colab": {
          "base_uri": "https://localhost:8080/"
        },
        "id": "oO-QlaNsJHSi",
        "outputId": "fb32a5b8-09ea-4f2b-c261-e13c69dea80b"
      },
      "source": [
        "col = FS.Subset().columns.to_list()\n",
        "col"
      ],
      "execution_count": null,
      "outputs": [
        {
          "output_type": "execute_result",
          "data": {
            "text/plain": [
              "['bin_mileage',\n",
              " 'has_turbo',\n",
              " 'Wheel',\n",
              " 'Leather interior',\n",
              " 'Category',\n",
              " 'Engine volume',\n",
              " 'Gear box type',\n",
              " 'Airbags',\n",
              " 'Fuel type',\n",
              " 'Levy',\n",
              " 'Color']"
            ]
          },
          "metadata": {},
          "execution_count": 48
        }
      ]
    },
    {
      "cell_type": "code",
      "metadata": {
        "colab": {
          "base_uri": "https://localhost:8080/"
        },
        "id": "6xt8Y11_JW7-",
        "outputId": "dca91352-5d48-4bb3-db66-2014f3ca32b1"
      },
      "source": [
        "# latih lagi untuk melihat perbedaan \n",
        "\n",
        "LGBM.fit(x_train[col], y_train)"
      ],
      "execution_count": null,
      "outputs": [
        {
          "output_type": "execute_result",
          "data": {
            "text/plain": [
              "LGBMRegressor(random_state=29)"
            ]
          },
          "metadata": {},
          "execution_count": 49
        }
      ]
    },
    {
      "cell_type": "code",
      "metadata": {
        "id": "RWNF0_23Jjgc"
      },
      "source": [
        "pred2 = LGBM.predict(x_val[col])"
      ],
      "execution_count": null,
      "outputs": []
    },
    {
      "cell_type": "code",
      "metadata": {
        "colab": {
          "base_uri": "https://localhost:8080/"
        },
        "id": "RlQUuYlQJoyf",
        "outputId": "2a11bb76-f879-4c4e-8946-9adf7cbdbbcf"
      },
      "source": [
        "print(f\"rmsle: {rmsle(pred2,y_val)}\")\n",
        "print(f\"mae: {mae(pred2,y_val)}\")\n",
        "print(f\"rmse: {rmse(pred2,y_val)}\")"
      ],
      "execution_count": null,
      "outputs": [
        {
          "output_type": "stream",
          "name": "stdout",
          "text": [
            "rmsle: 1.0438105309636652\n",
            "mae: 7185.847938737974\n",
            "rmse: 13938.056578737636\n"
          ]
        }
      ]
    },
    {
      "cell_type": "code",
      "metadata": {
        "id": "BsBvEpnXKoKq"
      },
      "source": [
        "rmse_list = []\n",
        "rmsle_list = []\n",
        "mae_list = []"
      ],
      "execution_count": null,
      "outputs": []
    },
    {
      "cell_type": "markdown",
      "metadata": {
        "id": "zJOmYWeMKor5"
      },
      "source": [
        "## MODEL - 1"
      ]
    },
    {
      "cell_type": "code",
      "metadata": {
        "id": "SSnFwGmCKq2x"
      },
      "source": [
        "x_train_1 = x_train[col]\n",
        "x_val_1 = x_val[col]"
      ],
      "execution_count": null,
      "outputs": []
    },
    {
      "cell_type": "code",
      "metadata": {
        "id": "lWH9y87_LLs8"
      },
      "source": [
        "# buat cater baru \n",
        "cater = x_train_1.select_dtypes(exclude=\"number\").columns"
      ],
      "execution_count": null,
      "outputs": []
    },
    {
      "cell_type": "code",
      "metadata": {
        "colab": {
          "base_uri": "https://localhost:8080/"
        },
        "id": "iu7TRtfCK-1x",
        "outputId": "bf273f45-e06c-460b-bb01-c715344c2f8e"
      },
      "source": [
        "x_val_1.dtypes"
      ],
      "execution_count": null,
      "outputs": [
        {
          "output_type": "execute_result",
          "data": {
            "text/plain": [
              "bin_mileage            int64\n",
              "has_turbo           category\n",
              "Wheel               category\n",
              "Leather interior    category\n",
              "Category            category\n",
              "Engine volume        float64\n",
              "Gear box type       category\n",
              "Airbags                int64\n",
              "Fuel type           category\n",
              "Levy                   int64\n",
              "Color               category\n",
              "dtype: object"
            ]
          },
          "metadata": {},
          "execution_count": 21
        }
      ]
    },
    {
      "cell_type": "code",
      "metadata": {
        "id": "R_9O43vBLDud"
      },
      "source": [
        "ft = {}\n",
        "for i in cater:\n",
        "    ft[i] = LabelEncoder()\n",
        "    x_train_1[i] = ft[i].fit_transform(x_train_1[i]) \n",
        "    x_val_1[i] = ft[i].transform(x_val_1[i])"
      ],
      "execution_count": null,
      "outputs": []
    },
    {
      "cell_type": "code",
      "metadata": {
        "colab": {
          "base_uri": "https://localhost:8080/"
        },
        "id": "n_6GZAkRLXzV",
        "outputId": "9231deb8-4c07-4b82-9450-e1af9cfcf473"
      },
      "source": [
        "x_train_1.dtypes"
      ],
      "execution_count": null,
      "outputs": [
        {
          "output_type": "execute_result",
          "data": {
            "text/plain": [
              "bin_mileage           int64\n",
              "has_turbo             int64\n",
              "Wheel                 int64\n",
              "Leather interior      int64\n",
              "Category              int64\n",
              "Engine volume       float64\n",
              "Gear box type         int64\n",
              "Airbags               int64\n",
              "Fuel type             int64\n",
              "Levy                  int64\n",
              "Color                 int64\n",
              "dtype: object"
            ]
          },
          "metadata": {},
          "execution_count": 96
        }
      ]
    },
    {
      "cell_type": "code",
      "metadata": {
        "id": "jfsCojp8LaSs"
      },
      "source": [
        "XGB = XGBRegressor(random_state=10)\n",
        "GBT = GradientBoostingRegressor(random_state=20)\n",
        "HGBT = HistGradientBoostingRegressor(random_state=30)\n",
        "ADA = AdaBoostRegressor(random_state=40)\n",
        "EXT = ExtraTreeRegressor(random_state=50)\n",
        "RF = RandomForestRegressor(random_state=60)\n",
        "DT = DecisionTreeRegressor(random_state=70)"
      ],
      "execution_count": null,
      "outputs": []
    },
    {
      "cell_type": "code",
      "metadata": {
        "id": "DEnG8odLLyn0"
      },
      "source": [
        "def score_1(model,x_train, y_train, x_val, y_val):\n",
        "\n",
        "    #fit model\n",
        "    model.fit(x_train,y_train)\n",
        "\n",
        "    #predict\n",
        "    pred = model.predict(x_val)\n",
        "\n",
        "    #rmse, rmsle, mae \n",
        "\n",
        "    rmse_list.append(rmse(y_val, pred)) \n",
        "    rmsle_list.append(rmsle(y_val, pred)) \n",
        "    mae_list.append(mae(y_val, pred)) \n",
        "    \n",
        "    \n",
        "    return model"
      ],
      "execution_count": null,
      "outputs": []
    },
    {
      "cell_type": "code",
      "metadata": {
        "colab": {
          "base_uri": "https://localhost:8080/"
        },
        "id": "Pb5HcwoKMuwM",
        "outputId": "ab050627-9bfe-4a9c-8a4f-bd5e1b9e8229"
      },
      "source": [
        "for i in [XGB,ADA,GBT,HGBT,DT,RF,EXT]:\n",
        "    print(30*\"-\")\n",
        "    print(i)\n",
        "    score_1(i, x_train_1, y_train, x_val_1, y_val)\n",
        "    print(10*\"->\" + \" DONE\")"
      ],
      "execution_count": null,
      "outputs": [
        {
          "output_type": "stream",
          "name": "stdout",
          "text": [
            "------------------------------\n",
            "XGBRegressor(random_state=10)\n",
            "[11:56:03] WARNING: /workspace/src/objective/regression_obj.cu:152: reg:linear is now deprecated in favor of reg:squarederror.\n",
            "->->->->->->->->->-> DONE\n",
            "------------------------------\n",
            "AdaBoostRegressor(random_state=40)\n",
            "->->->->->->->->->-> DONE\n",
            "------------------------------\n",
            "GradientBoostingRegressor(random_state=20)\n",
            "->->->->->->->->->-> DONE\n",
            "------------------------------\n",
            "HistGradientBoostingRegressor(random_state=30)\n",
            "->->->->->->->->->-> DONE\n",
            "------------------------------\n",
            "DecisionTreeRegressor(random_state=70)\n",
            "->->->->->->->->->-> DONE\n",
            "------------------------------\n",
            "RandomForestRegressor(random_state=60)\n",
            "->->->->->->->->->-> DONE\n",
            "------------------------------\n",
            "ExtraTreeRegressor(random_state=50)\n",
            "->->->->->->->->->-> DONE\n"
          ]
        }
      ]
    },
    {
      "cell_type": "code",
      "metadata": {
        "id": "j2oSRJRgOi7e"
      },
      "source": [
        ""
      ],
      "execution_count": null,
      "outputs": []
    },
    {
      "cell_type": "markdown",
      "metadata": {
        "id": "Ua2kEtwUOrH-"
      },
      "source": [
        "## MODEL - 2"
      ]
    },
    {
      "cell_type": "code",
      "metadata": {
        "id": "fpEl-SNHOuOf"
      },
      "source": [
        "x_train_2 = x_train[col]\n",
        "x_val_2 = x_val[col]"
      ],
      "execution_count": null,
      "outputs": []
    },
    {
      "cell_type": "code",
      "metadata": {
        "colab": {
          "base_uri": "https://localhost:8080/"
        },
        "id": "WZpmrHxqO0ci",
        "outputId": "692a0163-5307-4d45-8557-844bf0e31e0a"
      },
      "source": [
        "x_train_2.dtypes"
      ],
      "execution_count": null,
      "outputs": [
        {
          "output_type": "execute_result",
          "data": {
            "text/plain": [
              "bin_mileage            int64\n",
              "has_turbo           category\n",
              "Wheel               category\n",
              "Leather interior    category\n",
              "Category            category\n",
              "Engine volume        float64\n",
              "Gear box type       category\n",
              "Airbags                int64\n",
              "Fuel type           category\n",
              "Levy                   int64\n",
              "Color               category\n",
              "dtype: object"
            ]
          },
          "metadata": {},
          "execution_count": 28
        }
      ]
    },
    {
      "cell_type": "code",
      "metadata": {
        "id": "gkBHhtp5O3u-"
      },
      "source": [
        "CB = CatBoostRegressor(random_state=929)\n",
        "LGBM = LGBMRegressor(random_state=299)"
      ],
      "execution_count": null,
      "outputs": []
    },
    {
      "cell_type": "code",
      "metadata": {
        "id": "nSEVaOjxPEk_"
      },
      "source": [
        "def score_2(model,x_train, y_train, x_val, y_val):\n",
        "       \n",
        "    #lgbm\n",
        "    if model == LGBM:\n",
        "       #fit model\n",
        "       model.fit(x_train,y_train,verbose=False)\n",
        "\n",
        "       #predict\n",
        "       pred = model.predict(x_val)\n",
        "\n",
        "       #rmse, rmsle, mae \n",
        "\n",
        "       rmse_list.append(rmse(y_val, pred))\n",
        "       rmsle_list.append(rmsle(y_val, pred))\n",
        "       mae_list.append(mae(y_val, pred))\n",
        "    \n",
        "   #catboost\n",
        "    else:         \n",
        "       model.fit(x_train,y_train,cat_features=cater.to_list(),verbose=False) \n",
        "\n",
        "       #predict\n",
        "       pred = model.predict(x_val)\n",
        "\n",
        "       #rmse, rmsle, mae \n",
        "\n",
        "       rmse_list.append(rmse(y_val, pred))\n",
        "       rmsle_list.append(rmsle(y_val, pred))\n",
        "       mae_list.append(mae(y_val, pred))\n",
        "    \n",
        "\n",
        "    return model"
      ],
      "execution_count": null,
      "outputs": []
    },
    {
      "cell_type": "code",
      "metadata": {
        "colab": {
          "base_uri": "https://localhost:8080/"
        },
        "id": "yWtRUvUHRWms",
        "outputId": "49d2cd3d-5e4a-461b-a559-cbef2b30de09"
      },
      "source": [
        "for i in [CB,LGBM]:\n",
        "    print(30*\"-\")\n",
        "    print(i)\n",
        "    score_2(i, x_train_2, y_train, x_val_2, y_val)\n",
        "    print(10*\"->\" + \" DONE\")"
      ],
      "execution_count": null,
      "outputs": [
        {
          "output_type": "stream",
          "name": "stdout",
          "text": [
            "------------------------------\n",
            "<catboost.core.CatBoostRegressor object at 0x7fb99105dd90>\n",
            "->->->->->->->->->-> DONE\n",
            "------------------------------\n",
            "LGBMRegressor(random_state=299)\n",
            "->->->->->->->->->-> DONE\n"
          ]
        }
      ]
    },
    {
      "cell_type": "markdown",
      "metadata": {
        "id": "sUgTx3_QSF-Z"
      },
      "source": [
        "## MODEL - 3"
      ]
    },
    {
      "cell_type": "code",
      "metadata": {
        "id": "6unnh2T0SITE"
      },
      "source": [
        "x_train_3 = x_train.copy() \n",
        "x_val_3 = x_val.copy()"
      ],
      "execution_count": null,
      "outputs": []
    },
    {
      "cell_type": "code",
      "metadata": {
        "colab": {
          "base_uri": "https://localhost:8080/",
          "height": 360
        },
        "id": "KfY12Y6-SWRn",
        "outputId": "08917b94-bac2-418a-dc57-13363084c237"
      },
      "source": [
        "x_train_3.head()"
      ],
      "execution_count": null,
      "outputs": [
        {
          "output_type": "execute_result",
          "data": {
            "text/html": [
              "<div>\n",
              "<style scoped>\n",
              "    .dataframe tbody tr th:only-of-type {\n",
              "        vertical-align: middle;\n",
              "    }\n",
              "\n",
              "    .dataframe tbody tr th {\n",
              "        vertical-align: top;\n",
              "    }\n",
              "\n",
              "    .dataframe thead th {\n",
              "        text-align: right;\n",
              "    }\n",
              "</style>\n",
              "<table border=\"1\" class=\"dataframe\">\n",
              "  <thead>\n",
              "    <tr style=\"text-align: right;\">\n",
              "      <th></th>\n",
              "      <th>ID</th>\n",
              "      <th>Levy</th>\n",
              "      <th>Category</th>\n",
              "      <th>Leather interior</th>\n",
              "      <th>Fuel type</th>\n",
              "      <th>Engine volume</th>\n",
              "      <th>Cylinders</th>\n",
              "      <th>Gear box type</th>\n",
              "      <th>Drive wheels</th>\n",
              "      <th>Doors</th>\n",
              "      <th>Wheel</th>\n",
              "      <th>Color</th>\n",
              "      <th>Airbags</th>\n",
              "      <th>has_turbo</th>\n",
              "      <th>new_prod_year</th>\n",
              "      <th>age_car</th>\n",
              "      <th>bin_mileage</th>\n",
              "    </tr>\n",
              "  </thead>\n",
              "  <tbody>\n",
              "    <tr>\n",
              "      <th>11388</th>\n",
              "      <td>4</td>\n",
              "      <td>0</td>\n",
              "      <td>Hatchback</td>\n",
              "      <td>No</td>\n",
              "      <td>Petrol</td>\n",
              "      <td>1.4</td>\n",
              "      <td>4</td>\n",
              "      <td>Manual</td>\n",
              "      <td>Front</td>\n",
              "      <td>02-Mar</td>\n",
              "      <td>Left wheel</td>\n",
              "      <td>Black</td>\n",
              "      <td>2</td>\n",
              "      <td>no</td>\n",
              "      <td>&lt;2000</td>\n",
              "      <td>[0-25]</td>\n",
              "      <td>10</td>\n",
              "    </tr>\n",
              "    <tr>\n",
              "      <th>8666</th>\n",
              "      <td>0</td>\n",
              "      <td>697</td>\n",
              "      <td>Sedan</td>\n",
              "      <td>Yes</td>\n",
              "      <td>Petrol</td>\n",
              "      <td>1.8</td>\n",
              "      <td>4</td>\n",
              "      <td>Automatic</td>\n",
              "      <td>Front</td>\n",
              "      <td>04-May</td>\n",
              "      <td>Left wheel</td>\n",
              "      <td>Black</td>\n",
              "      <td>12</td>\n",
              "      <td>no</td>\n",
              "      <td>&gt;2000</td>\n",
              "      <td>[0-25]</td>\n",
              "      <td>5</td>\n",
              "    </tr>\n",
              "    <tr>\n",
              "      <th>4218</th>\n",
              "      <td>0</td>\n",
              "      <td>0</td>\n",
              "      <td>Hatchback</td>\n",
              "      <td>No</td>\n",
              "      <td>Petrol</td>\n",
              "      <td>1.3</td>\n",
              "      <td>4</td>\n",
              "      <td>Variator</td>\n",
              "      <td>Front</td>\n",
              "      <td>04-May</td>\n",
              "      <td>Right-hand drive</td>\n",
              "      <td>Silver</td>\n",
              "      <td>2</td>\n",
              "      <td>no</td>\n",
              "      <td>&gt;2000</td>\n",
              "      <td>[0-25]</td>\n",
              "      <td>1</td>\n",
              "    </tr>\n",
              "    <tr>\n",
              "      <th>3663</th>\n",
              "      <td>0</td>\n",
              "      <td>988</td>\n",
              "      <td>Hatchback</td>\n",
              "      <td>No</td>\n",
              "      <td>Hybrid</td>\n",
              "      <td>1.5</td>\n",
              "      <td>4</td>\n",
              "      <td>Automatic</td>\n",
              "      <td>Front</td>\n",
              "      <td>04-May</td>\n",
              "      <td>Left wheel</td>\n",
              "      <td>Silver</td>\n",
              "      <td>9</td>\n",
              "      <td>no</td>\n",
              "      <td>&gt;2000</td>\n",
              "      <td>[0-25]</td>\n",
              "      <td>7</td>\n",
              "    </tr>\n",
              "    <tr>\n",
              "      <th>6441</th>\n",
              "      <td>8</td>\n",
              "      <td>765</td>\n",
              "      <td>Sedan</td>\n",
              "      <td>Yes</td>\n",
              "      <td>Petrol</td>\n",
              "      <td>2.0</td>\n",
              "      <td>4</td>\n",
              "      <td>Automatic</td>\n",
              "      <td>Rear</td>\n",
              "      <td>04-May</td>\n",
              "      <td>Left wheel</td>\n",
              "      <td>White</td>\n",
              "      <td>12</td>\n",
              "      <td>no</td>\n",
              "      <td>&gt;2000</td>\n",
              "      <td>[0-25]</td>\n",
              "      <td>4</td>\n",
              "    </tr>\n",
              "  </tbody>\n",
              "</table>\n",
              "</div>"
            ],
            "text/plain": [
              "       ID  Levy   Category  ... new_prod_year age_car  bin_mileage\n",
              "11388   4     0  Hatchback  ...         <2000  [0-25]           10\n",
              "8666    0   697      Sedan  ...         >2000  [0-25]            5\n",
              "4218    0     0  Hatchback  ...         >2000  [0-25]            1\n",
              "3663    0   988  Hatchback  ...         >2000  [0-25]            7\n",
              "6441    8   765      Sedan  ...         >2000  [0-25]            4\n",
              "\n",
              "[5 rows x 17 columns]"
            ]
          },
          "metadata": {},
          "execution_count": 33
        }
      ]
    },
    {
      "cell_type": "code",
      "metadata": {
        "id": "9nhbSf-ZU8sr"
      },
      "source": [
        "# pisahkan numeric column\n",
        "\n",
        "number = x_train_3.select_dtypes(\"number\").columns"
      ],
      "execution_count": null,
      "outputs": []
    },
    {
      "cell_type": "code",
      "metadata": {
        "id": "AAqGhujJSa5K"
      },
      "source": [
        "\n",
        "# scaler values\n",
        "\n",
        "sc = StandardScaler() \n",
        "x_train_3[number] = sc.fit_transform(x_train_3[number])\n",
        "x_val_3[number] = sc.transform(x_val_3[number])"
      ],
      "execution_count": null,
      "outputs": []
    },
    {
      "cell_type": "code",
      "metadata": {
        "id": "7bm8_lYhV6vB"
      },
      "source": [
        "# dummies category\n",
        "\n",
        "x_train_3 = pd.get_dummies(x_train)\n",
        "x_val_3 = pd.get_dummies(x_val_3)"
      ],
      "execution_count": null,
      "outputs": []
    },
    {
      "cell_type": "code",
      "metadata": {
        "colab": {
          "base_uri": "https://localhost:8080/",
          "height": 241
        },
        "id": "KpK8HxJbSz-d",
        "outputId": "c3d759fe-8550-4ee2-fc1a-502056d6f21d"
      },
      "source": [
        "x_train_3.head()"
      ],
      "execution_count": null,
      "outputs": [
        {
          "output_type": "execute_result",
          "data": {
            "text/html": [
              "<div>\n",
              "<style scoped>\n",
              "    .dataframe tbody tr th:only-of-type {\n",
              "        vertical-align: middle;\n",
              "    }\n",
              "\n",
              "    .dataframe tbody tr th {\n",
              "        vertical-align: top;\n",
              "    }\n",
              "\n",
              "    .dataframe thead th {\n",
              "        text-align: right;\n",
              "    }\n",
              "</style>\n",
              "<table border=\"1\" class=\"dataframe\">\n",
              "  <thead>\n",
              "    <tr style=\"text-align: right;\">\n",
              "      <th></th>\n",
              "      <th>ID</th>\n",
              "      <th>Levy</th>\n",
              "      <th>Engine volume</th>\n",
              "      <th>Cylinders</th>\n",
              "      <th>Airbags</th>\n",
              "      <th>bin_mileage</th>\n",
              "      <th>Category_Cabriolet</th>\n",
              "      <th>Category_Coupe</th>\n",
              "      <th>Category_Goods wagon</th>\n",
              "      <th>Category_Hatchback</th>\n",
              "      <th>Category_Jeep</th>\n",
              "      <th>Category_Limousine</th>\n",
              "      <th>Category_Microbus</th>\n",
              "      <th>Category_Minivan</th>\n",
              "      <th>Category_Pickup</th>\n",
              "      <th>Category_Sedan</th>\n",
              "      <th>Category_Universal</th>\n",
              "      <th>Leather interior_No</th>\n",
              "      <th>Leather interior_Yes</th>\n",
              "      <th>Fuel type_CNG</th>\n",
              "      <th>Fuel type_Diesel</th>\n",
              "      <th>Fuel type_Hybrid</th>\n",
              "      <th>Fuel type_LPG</th>\n",
              "      <th>Fuel type_Others</th>\n",
              "      <th>Fuel type_Petrol</th>\n",
              "      <th>Gear box type_Automatic</th>\n",
              "      <th>Gear box type_Manual</th>\n",
              "      <th>Gear box type_Tiptronic</th>\n",
              "      <th>Gear box type_Variator</th>\n",
              "      <th>Drive wheels_4x4</th>\n",
              "      <th>Drive wheels_Front</th>\n",
              "      <th>Drive wheels_Rear</th>\n",
              "      <th>Doors_02-Mar</th>\n",
              "      <th>Doors_04-May</th>\n",
              "      <th>Doors_&gt;5</th>\n",
              "      <th>Wheel_Left wheel</th>\n",
              "      <th>Wheel_Right-hand drive</th>\n",
              "      <th>Color_Beige</th>\n",
              "      <th>Color_Black</th>\n",
              "      <th>Color_Blue</th>\n",
              "      <th>Color_Brown</th>\n",
              "      <th>Color_Carnelian red</th>\n",
              "      <th>Color_Golden</th>\n",
              "      <th>Color_Green</th>\n",
              "      <th>Color_Grey</th>\n",
              "      <th>Color_Orange</th>\n",
              "      <th>Color_Pink</th>\n",
              "      <th>Color_Purple</th>\n",
              "      <th>Color_Red</th>\n",
              "      <th>Color_Silver</th>\n",
              "      <th>Color_Sky blue</th>\n",
              "      <th>Color_White</th>\n",
              "      <th>Color_Yellow</th>\n",
              "      <th>has_turbo_no</th>\n",
              "      <th>has_turbo_yes</th>\n",
              "      <th>new_prod_year_&lt;2000</th>\n",
              "      <th>new_prod_year_&gt;2000</th>\n",
              "      <th>age_car_&gt;50</th>\n",
              "      <th>age_car_[0-25]</th>\n",
              "      <th>age_car_[25-50]</th>\n",
              "    </tr>\n",
              "  </thead>\n",
              "  <tbody>\n",
              "    <tr>\n",
              "      <th>11388</th>\n",
              "      <td>4</td>\n",
              "      <td>0</td>\n",
              "      <td>1.4</td>\n",
              "      <td>4</td>\n",
              "      <td>2</td>\n",
              "      <td>10</td>\n",
              "      <td>0</td>\n",
              "      <td>0</td>\n",
              "      <td>0</td>\n",
              "      <td>1</td>\n",
              "      <td>0</td>\n",
              "      <td>0</td>\n",
              "      <td>0</td>\n",
              "      <td>0</td>\n",
              "      <td>0</td>\n",
              "      <td>0</td>\n",
              "      <td>0</td>\n",
              "      <td>1</td>\n",
              "      <td>0</td>\n",
              "      <td>0</td>\n",
              "      <td>0</td>\n",
              "      <td>0</td>\n",
              "      <td>0</td>\n",
              "      <td>0</td>\n",
              "      <td>1</td>\n",
              "      <td>0</td>\n",
              "      <td>1</td>\n",
              "      <td>0</td>\n",
              "      <td>0</td>\n",
              "      <td>0</td>\n",
              "      <td>1</td>\n",
              "      <td>0</td>\n",
              "      <td>1</td>\n",
              "      <td>0</td>\n",
              "      <td>0</td>\n",
              "      <td>1</td>\n",
              "      <td>0</td>\n",
              "      <td>0</td>\n",
              "      <td>1</td>\n",
              "      <td>0</td>\n",
              "      <td>0</td>\n",
              "      <td>0</td>\n",
              "      <td>0</td>\n",
              "      <td>0</td>\n",
              "      <td>0</td>\n",
              "      <td>0</td>\n",
              "      <td>0</td>\n",
              "      <td>0</td>\n",
              "      <td>0</td>\n",
              "      <td>0</td>\n",
              "      <td>0</td>\n",
              "      <td>0</td>\n",
              "      <td>0</td>\n",
              "      <td>1</td>\n",
              "      <td>0</td>\n",
              "      <td>1</td>\n",
              "      <td>0</td>\n",
              "      <td>0</td>\n",
              "      <td>1</td>\n",
              "      <td>0</td>\n",
              "    </tr>\n",
              "    <tr>\n",
              "      <th>8666</th>\n",
              "      <td>0</td>\n",
              "      <td>697</td>\n",
              "      <td>1.8</td>\n",
              "      <td>4</td>\n",
              "      <td>12</td>\n",
              "      <td>5</td>\n",
              "      <td>0</td>\n",
              "      <td>0</td>\n",
              "      <td>0</td>\n",
              "      <td>0</td>\n",
              "      <td>0</td>\n",
              "      <td>0</td>\n",
              "      <td>0</td>\n",
              "      <td>0</td>\n",
              "      <td>0</td>\n",
              "      <td>1</td>\n",
              "      <td>0</td>\n",
              "      <td>0</td>\n",
              "      <td>1</td>\n",
              "      <td>0</td>\n",
              "      <td>0</td>\n",
              "      <td>0</td>\n",
              "      <td>0</td>\n",
              "      <td>0</td>\n",
              "      <td>1</td>\n",
              "      <td>1</td>\n",
              "      <td>0</td>\n",
              "      <td>0</td>\n",
              "      <td>0</td>\n",
              "      <td>0</td>\n",
              "      <td>1</td>\n",
              "      <td>0</td>\n",
              "      <td>0</td>\n",
              "      <td>1</td>\n",
              "      <td>0</td>\n",
              "      <td>1</td>\n",
              "      <td>0</td>\n",
              "      <td>0</td>\n",
              "      <td>1</td>\n",
              "      <td>0</td>\n",
              "      <td>0</td>\n",
              "      <td>0</td>\n",
              "      <td>0</td>\n",
              "      <td>0</td>\n",
              "      <td>0</td>\n",
              "      <td>0</td>\n",
              "      <td>0</td>\n",
              "      <td>0</td>\n",
              "      <td>0</td>\n",
              "      <td>0</td>\n",
              "      <td>0</td>\n",
              "      <td>0</td>\n",
              "      <td>0</td>\n",
              "      <td>1</td>\n",
              "      <td>0</td>\n",
              "      <td>0</td>\n",
              "      <td>1</td>\n",
              "      <td>0</td>\n",
              "      <td>1</td>\n",
              "      <td>0</td>\n",
              "    </tr>\n",
              "    <tr>\n",
              "      <th>4218</th>\n",
              "      <td>0</td>\n",
              "      <td>0</td>\n",
              "      <td>1.3</td>\n",
              "      <td>4</td>\n",
              "      <td>2</td>\n",
              "      <td>1</td>\n",
              "      <td>0</td>\n",
              "      <td>0</td>\n",
              "      <td>0</td>\n",
              "      <td>1</td>\n",
              "      <td>0</td>\n",
              "      <td>0</td>\n",
              "      <td>0</td>\n",
              "      <td>0</td>\n",
              "      <td>0</td>\n",
              "      <td>0</td>\n",
              "      <td>0</td>\n",
              "      <td>1</td>\n",
              "      <td>0</td>\n",
              "      <td>0</td>\n",
              "      <td>0</td>\n",
              "      <td>0</td>\n",
              "      <td>0</td>\n",
              "      <td>0</td>\n",
              "      <td>1</td>\n",
              "      <td>0</td>\n",
              "      <td>0</td>\n",
              "      <td>0</td>\n",
              "      <td>1</td>\n",
              "      <td>0</td>\n",
              "      <td>1</td>\n",
              "      <td>0</td>\n",
              "      <td>0</td>\n",
              "      <td>1</td>\n",
              "      <td>0</td>\n",
              "      <td>0</td>\n",
              "      <td>1</td>\n",
              "      <td>0</td>\n",
              "      <td>0</td>\n",
              "      <td>0</td>\n",
              "      <td>0</td>\n",
              "      <td>0</td>\n",
              "      <td>0</td>\n",
              "      <td>0</td>\n",
              "      <td>0</td>\n",
              "      <td>0</td>\n",
              "      <td>0</td>\n",
              "      <td>0</td>\n",
              "      <td>0</td>\n",
              "      <td>1</td>\n",
              "      <td>0</td>\n",
              "      <td>0</td>\n",
              "      <td>0</td>\n",
              "      <td>1</td>\n",
              "      <td>0</td>\n",
              "      <td>0</td>\n",
              "      <td>1</td>\n",
              "      <td>0</td>\n",
              "      <td>1</td>\n",
              "      <td>0</td>\n",
              "    </tr>\n",
              "    <tr>\n",
              "      <th>3663</th>\n",
              "      <td>0</td>\n",
              "      <td>988</td>\n",
              "      <td>1.5</td>\n",
              "      <td>4</td>\n",
              "      <td>9</td>\n",
              "      <td>7</td>\n",
              "      <td>0</td>\n",
              "      <td>0</td>\n",
              "      <td>0</td>\n",
              "      <td>1</td>\n",
              "      <td>0</td>\n",
              "      <td>0</td>\n",
              "      <td>0</td>\n",
              "      <td>0</td>\n",
              "      <td>0</td>\n",
              "      <td>0</td>\n",
              "      <td>0</td>\n",
              "      <td>1</td>\n",
              "      <td>0</td>\n",
              "      <td>0</td>\n",
              "      <td>0</td>\n",
              "      <td>1</td>\n",
              "      <td>0</td>\n",
              "      <td>0</td>\n",
              "      <td>0</td>\n",
              "      <td>1</td>\n",
              "      <td>0</td>\n",
              "      <td>0</td>\n",
              "      <td>0</td>\n",
              "      <td>0</td>\n",
              "      <td>1</td>\n",
              "      <td>0</td>\n",
              "      <td>0</td>\n",
              "      <td>1</td>\n",
              "      <td>0</td>\n",
              "      <td>1</td>\n",
              "      <td>0</td>\n",
              "      <td>0</td>\n",
              "      <td>0</td>\n",
              "      <td>0</td>\n",
              "      <td>0</td>\n",
              "      <td>0</td>\n",
              "      <td>0</td>\n",
              "      <td>0</td>\n",
              "      <td>0</td>\n",
              "      <td>0</td>\n",
              "      <td>0</td>\n",
              "      <td>0</td>\n",
              "      <td>0</td>\n",
              "      <td>1</td>\n",
              "      <td>0</td>\n",
              "      <td>0</td>\n",
              "      <td>0</td>\n",
              "      <td>1</td>\n",
              "      <td>0</td>\n",
              "      <td>0</td>\n",
              "      <td>1</td>\n",
              "      <td>0</td>\n",
              "      <td>1</td>\n",
              "      <td>0</td>\n",
              "    </tr>\n",
              "    <tr>\n",
              "      <th>6441</th>\n",
              "      <td>8</td>\n",
              "      <td>765</td>\n",
              "      <td>2.0</td>\n",
              "      <td>4</td>\n",
              "      <td>12</td>\n",
              "      <td>4</td>\n",
              "      <td>0</td>\n",
              "      <td>0</td>\n",
              "      <td>0</td>\n",
              "      <td>0</td>\n",
              "      <td>0</td>\n",
              "      <td>0</td>\n",
              "      <td>0</td>\n",
              "      <td>0</td>\n",
              "      <td>0</td>\n",
              "      <td>1</td>\n",
              "      <td>0</td>\n",
              "      <td>0</td>\n",
              "      <td>1</td>\n",
              "      <td>0</td>\n",
              "      <td>0</td>\n",
              "      <td>0</td>\n",
              "      <td>0</td>\n",
              "      <td>0</td>\n",
              "      <td>1</td>\n",
              "      <td>1</td>\n",
              "      <td>0</td>\n",
              "      <td>0</td>\n",
              "      <td>0</td>\n",
              "      <td>0</td>\n",
              "      <td>0</td>\n",
              "      <td>1</td>\n",
              "      <td>0</td>\n",
              "      <td>1</td>\n",
              "      <td>0</td>\n",
              "      <td>1</td>\n",
              "      <td>0</td>\n",
              "      <td>0</td>\n",
              "      <td>0</td>\n",
              "      <td>0</td>\n",
              "      <td>0</td>\n",
              "      <td>0</td>\n",
              "      <td>0</td>\n",
              "      <td>0</td>\n",
              "      <td>0</td>\n",
              "      <td>0</td>\n",
              "      <td>0</td>\n",
              "      <td>0</td>\n",
              "      <td>0</td>\n",
              "      <td>0</td>\n",
              "      <td>0</td>\n",
              "      <td>1</td>\n",
              "      <td>0</td>\n",
              "      <td>1</td>\n",
              "      <td>0</td>\n",
              "      <td>0</td>\n",
              "      <td>1</td>\n",
              "      <td>0</td>\n",
              "      <td>1</td>\n",
              "      <td>0</td>\n",
              "    </tr>\n",
              "  </tbody>\n",
              "</table>\n",
              "</div>"
            ],
            "text/plain": [
              "       ID  Levy  Engine volume  ...  age_car_>50  age_car_[0-25]  age_car_[25-50]\n",
              "11388   4     0            1.4  ...            0               1                0\n",
              "8666    0   697            1.8  ...            0               1                0\n",
              "4218    0     0            1.3  ...            0               1                0\n",
              "3663    0   988            1.5  ...            0               1                0\n",
              "6441    8   765            2.0  ...            0               1                0\n",
              "\n",
              "[5 rows x 60 columns]"
            ]
          },
          "metadata": {},
          "execution_count": 37
        }
      ]
    },
    {
      "cell_type": "code",
      "metadata": {
        "id": "LsRtlf52S2Dq"
      },
      "source": [
        "LR = LinearRegression()\n",
        "ELS = ElasticNet(random_state=9292)\n",
        "RD = Ridge(random_state=102) #\n",
        "LS = Lasso(random_state=15)\n",
        "#SVM = SVR(kernel=\"linear\")\n",
        "#KNN = KNeighborsRegressor()\n",
        "SGDSVM = SGDOneClassSVM(random_state=289)"
      ],
      "execution_count": null,
      "outputs": []
    },
    {
      "cell_type": "code",
      "metadata": {
        "id": "pHgbubkoTrzZ"
      },
      "source": [
        "def score_3(model,x_train, y_train, x_val, y_val):\n",
        "\n",
        "    #fit model\n",
        "    model.fit(x_train,y_train)\n",
        "\n",
        "    #predict\n",
        "    pred = model.predict(x_val)\n",
        "\n",
        "    #rmse, rmsle, mae \n",
        "\n",
        "    rmse_list.append(rmse(y_val, pred)) \n",
        "    rmsle_list.append(rmsle(y_val, pred)) \n",
        "    mae_list.append(mae(y_val, pred)) \n",
        "    \n",
        "    \n",
        "    return model"
      ],
      "execution_count": null,
      "outputs": []
    },
    {
      "cell_type": "code",
      "metadata": {
        "colab": {
          "base_uri": "https://localhost:8080/"
        },
        "id": "iC7EE9AxWhTL",
        "outputId": "524b572c-bc3e-435c-91fe-ce364b2223cc"
      },
      "source": [
        "for i in [LR,ELS,RD,LS,SGDSVM]:\n",
        "    print(30*\"-\")\n",
        "    print(i)\n",
        "    score_3(i, x_train_3, y_train, x_val_3, y_val)\n",
        "    print(10*\"->\" + \" DONE\")"
      ],
      "execution_count": null,
      "outputs": [
        {
          "output_type": "stream",
          "name": "stdout",
          "text": [
            "------------------------------\n",
            "LinearRegression()\n",
            "->->->->->->->->->-> DONE\n",
            "------------------------------\n",
            "ElasticNet(random_state=9292)\n",
            "->->->->->->->->->-> DONE\n",
            "------------------------------\n",
            "Ridge(random_state=102)\n",
            "->->->->->->->->->-> DONE\n",
            "------------------------------\n",
            "Lasso(random_state=15)\n",
            "->->->->->->->->->-> DONE\n",
            "------------------------------\n",
            "SGDOneClassSVM(random_state=289)\n",
            "->->->->->->->->->-> DONE\n"
          ]
        }
      ]
    },
    {
      "cell_type": "markdown",
      "metadata": {
        "id": "AutA2eKqOjLl"
      },
      "source": [
        "## Model-Selection"
      ]
    },
    {
      "cell_type": "code",
      "metadata": {
        "id": "vTaa1-eIWeYU"
      },
      "source": [
        ""
      ],
      "execution_count": null,
      "outputs": []
    },
    {
      "cell_type": "code",
      "metadata": {
        "id": "VCP7ap3hNmbb"
      },
      "source": [
        "all_models = pd.DataFrame({\"models\": [\"XGB\", \"ADA\", \"GBT\", \"HGBT\", \"DT\", \"RF\", \"EXT\",\"CB\",\"LGBM\",\"LR\",\"ELS\",\"RD\",\"LS\",\"SGDSVM\"], \n",
        "                          \"RMSE\": rmse_list, \n",
        "                          \"RMSLE\": rmsle_list,\n",
        "                          \"MAE\": mae_list})\n",
        "all_models = all_models.set_index(\"models\")"
      ],
      "execution_count": null,
      "outputs": []
    },
    {
      "cell_type": "code",
      "metadata": {
        "colab": {
          "base_uri": "https://localhost:8080/",
          "height": 534
        },
        "id": "VNO8PNS0OAZw",
        "outputId": "f2b15f9f-88fb-4431-f5c3-2e632457ae6b"
      },
      "source": [
        "all_models"
      ],
      "execution_count": null,
      "outputs": [
        {
          "output_type": "execute_result",
          "data": {
            "text/html": [
              "<div>\n",
              "<style scoped>\n",
              "    .dataframe tbody tr th:only-of-type {\n",
              "        vertical-align: middle;\n",
              "    }\n",
              "\n",
              "    .dataframe tbody tr th {\n",
              "        vertical-align: top;\n",
              "    }\n",
              "\n",
              "    .dataframe thead th {\n",
              "        text-align: right;\n",
              "    }\n",
              "</style>\n",
              "<table border=\"1\" class=\"dataframe\">\n",
              "  <thead>\n",
              "    <tr style=\"text-align: right;\">\n",
              "      <th></th>\n",
              "      <th>RMSE</th>\n",
              "      <th>RMSLE</th>\n",
              "      <th>MAE</th>\n",
              "    </tr>\n",
              "    <tr>\n",
              "      <th>models</th>\n",
              "      <th></th>\n",
              "      <th></th>\n",
              "      <th></th>\n",
              "    </tr>\n",
              "  </thead>\n",
              "  <tbody>\n",
              "    <tr>\n",
              "      <th>XGB</th>\n",
              "      <td>15722.327129</td>\n",
              "      <td>1.149465</td>\n",
              "      <td>8435.682727</td>\n",
              "    </tr>\n",
              "    <tr>\n",
              "      <th>ADA</th>\n",
              "      <td>23385.696677</td>\n",
              "      <td>1.967292</td>\n",
              "      <td>15024.554515</td>\n",
              "    </tr>\n",
              "    <tr>\n",
              "      <th>GBT</th>\n",
              "      <td>15732.691287</td>\n",
              "      <td>1.151050</td>\n",
              "      <td>8449.709040</td>\n",
              "    </tr>\n",
              "    <tr>\n",
              "      <th>HGBT</th>\n",
              "      <td>13938.271342</td>\n",
              "      <td>1.033736</td>\n",
              "      <td>7199.273858</td>\n",
              "    </tr>\n",
              "    <tr>\n",
              "      <th>DT</th>\n",
              "      <td>14464.658416</td>\n",
              "      <td>1.346087</td>\n",
              "      <td>7138.076870</td>\n",
              "    </tr>\n",
              "    <tr>\n",
              "      <th>RF</th>\n",
              "      <td>12942.866189</td>\n",
              "      <td>0.992847</td>\n",
              "      <td>6017.396352</td>\n",
              "    </tr>\n",
              "    <tr>\n",
              "      <th>EXT</th>\n",
              "      <td>15410.122442</td>\n",
              "      <td>1.295310</td>\n",
              "      <td>7226.982969</td>\n",
              "    </tr>\n",
              "    <tr>\n",
              "      <th>CB</th>\n",
              "      <td>13868.684472</td>\n",
              "      <td>1.043366</td>\n",
              "      <td>7148.899320</td>\n",
              "    </tr>\n",
              "    <tr>\n",
              "      <th>LGBM</th>\n",
              "      <td>13938.056579</td>\n",
              "      <td>1.043811</td>\n",
              "      <td>7185.847939</td>\n",
              "    </tr>\n",
              "    <tr>\n",
              "      <th>LR</th>\n",
              "      <td>19835.898163</td>\n",
              "      <td>1.547101</td>\n",
              "      <td>13250.323368</td>\n",
              "    </tr>\n",
              "    <tr>\n",
              "      <th>ELS</th>\n",
              "      <td>19912.097373</td>\n",
              "      <td>1.557921</td>\n",
              "      <td>11974.717371</td>\n",
              "    </tr>\n",
              "    <tr>\n",
              "      <th>RD</th>\n",
              "      <td>19833.689943</td>\n",
              "      <td>1.547306</td>\n",
              "      <td>13251.030553</td>\n",
              "    </tr>\n",
              "    <tr>\n",
              "      <th>LS</th>\n",
              "      <td>20668.617081</td>\n",
              "      <td>1.542170</td>\n",
              "      <td>12387.690374</td>\n",
              "    </tr>\n",
              "    <tr>\n",
              "      <th>SGDSVM</th>\n",
              "      <td>25794.953045</td>\n",
              "      <td>8.885372</td>\n",
              "      <td>17494.754542</td>\n",
              "    </tr>\n",
              "  </tbody>\n",
              "</table>\n",
              "</div>"
            ],
            "text/plain": [
              "                RMSE     RMSLE           MAE\n",
              "models                                      \n",
              "XGB     15722.327129  1.149465   8435.682727\n",
              "ADA     23385.696677  1.967292  15024.554515\n",
              "GBT     15732.691287  1.151050   8449.709040\n",
              "HGBT    13938.271342  1.033736   7199.273858\n",
              "DT      14464.658416  1.346087   7138.076870\n",
              "RF      12942.866189  0.992847   6017.396352\n",
              "EXT     15410.122442  1.295310   7226.982969\n",
              "CB      13868.684472  1.043366   7148.899320\n",
              "LGBM    13938.056579  1.043811   7185.847939\n",
              "LR      19835.898163  1.547101  13250.323368\n",
              "ELS     19912.097373  1.557921  11974.717371\n",
              "RD      19833.689943  1.547306  13251.030553\n",
              "LS      20668.617081  1.542170  12387.690374\n",
              "SGDSVM  25794.953045  8.885372  17494.754542"
            ]
          },
          "metadata": {},
          "execution_count": 42
        }
      ]
    },
    {
      "cell_type": "markdown",
      "metadata": {
        "id": "B0gaL1EuZkvH"
      },
      "source": [
        "##Hyperparameters-Tuning"
      ]
    },
    {
      "cell_type": "code",
      "metadata": {
        "id": "j-E5OsWmbRRH"
      },
      "source": [
        "from sklearn.metrics import make_scorer\n",
        "\n",
        "scorer = make_scorer(rmsle, greater_is_better=False, size=10)"
      ],
      "execution_count": null,
      "outputs": []
    },
    {
      "cell_type": "code",
      "metadata": {
        "id": "F4Y29t62ZrBl"
      },
      "source": [
        "rf = RandomForestRegressor()\n",
        "max_features = [\"sqrt\",\"log2\",\"auto\"]\n",
        "n_estimators = [100,1000]\n",
        "\n",
        "params = dict(max_features=max_features,n_estimators=n_estimators)"
      ],
      "execution_count": null,
      "outputs": []
    },
    {
      "cell_type": "code",
      "metadata": {
        "id": "pZf7IPTPajmw"
      },
      "source": [
        "grid_search = GridSearchCV(estimator=rf, param_grid=params, n_jobs=-1,scoring=rmsle)\n",
        "result = grid_search.fit(x_train_1, y_train)"
      ],
      "execution_count": null,
      "outputs": []
    },
    {
      "cell_type": "code",
      "metadata": {
        "colab": {
          "base_uri": "https://localhost:8080/"
        },
        "id": "iBjEzCoxb2_f",
        "outputId": "9427adec-a42d-498c-b864-55a010698c9e"
      },
      "source": [
        "print(f\"best {result.best_params_}\")"
      ],
      "execution_count": null,
      "outputs": [
        {
          "output_type": "stream",
          "name": "stdout",
          "text": [
            "best {'max_features': 'sqrt', 'n_estimators': 100}\n"
          ]
        }
      ]
    },
    {
      "cell_type": "code",
      "metadata": {
        "id": "ljYKG8UiddG0"
      },
      "source": [
        "rf_params = result.best_params_"
      ],
      "execution_count": null,
      "outputs": []
    },
    {
      "cell_type": "code",
      "metadata": {
        "id": "LksFE1mKdiUo"
      },
      "source": [
        "rf = RandomForestRegressor(**rf_params, random_state=17)"
      ],
      "execution_count": null,
      "outputs": []
    },
    {
      "cell_type": "code",
      "metadata": {
        "colab": {
          "base_uri": "https://localhost:8080/"
        },
        "id": "XEqC_GqPdpKL",
        "outputId": "4683c8fa-17a6-47ad-fb45-933d98514f91"
      },
      "source": [
        "rf.fit(x_train_1, y_train)"
      ],
      "execution_count": null,
      "outputs": [
        {
          "output_type": "execute_result",
          "data": {
            "text/plain": [
              "RandomForestRegressor(max_features='sqrt', random_state=17)"
            ]
          },
          "metadata": {},
          "execution_count": 67
        }
      ]
    },
    {
      "cell_type": "code",
      "metadata": {
        "id": "zBO0RlsodwcY"
      },
      "source": [
        "true = rf.predict(x_val_1)"
      ],
      "execution_count": null,
      "outputs": []
    },
    {
      "cell_type": "code",
      "metadata": {
        "colab": {
          "base_uri": "https://localhost:8080/"
        },
        "id": "iqMgmxund1N9",
        "outputId": "21bf15c4-47e8-4286-c119-7ec0ddcb6692"
      },
      "source": [
        "rmsle(y_val, true)"
      ],
      "execution_count": null,
      "outputs": [
        {
          "output_type": "execute_result",
          "data": {
            "text/plain": [
              "0.9564102741003027"
            ]
          },
          "metadata": {},
          "execution_count": 72
        }
      ]
    },
    {
      "cell_type": "markdown",
      "metadata": {
        "id": "2AV7kr-wegMv"
      },
      "source": [
        "## Cross-validation with Kfold"
      ]
    },
    {
      "cell_type": "code",
      "metadata": {
        "id": "0R2AFlSOems2"
      },
      "source": [
        "y_true = []\n",
        "\n",
        "def cross_val(X, y, test, model, params, folds=7):\n",
        "\n",
        "    err = []\n",
        "    \n",
        "    skf = KFold(n_splits=folds, shuffle=True, random_state=21)\n",
        "\n",
        "    for fold, (train_idx, test_idx) in enumerate(skf.split(X, y)):\n",
        "        print(f\"Fold: {fold+1}\")\n",
        "        x_train, y_train = X.iloc[train_idx], y.iloc[train_idx]\n",
        "        x_test, y_test = X.iloc[test_idx], y.iloc[test_idx]\n",
        " \n",
        "        alg = model(**params)\n",
        "        alg.fit(x_train, y_train)\n",
        " \n",
        "        pred = alg.predict(x_test)\n",
        "        error = rmsle(y_test, pred)\n",
        "        err.append(error)\n",
        "        \n",
        "        # pred test \n",
        "        y_test = alg.predict(test) \n",
        "        y_true.append(np.exp(y_test)) \n",
        "\n",
        "        print(f\" RMSLE: {error}\")\n",
        "        print(\"-\"*50)\n",
        "     \n",
        "    print(\"\\nmean:\",np.array(err).mean())\n",
        "\n",
        "    return alg"
      ],
      "execution_count": null,
      "outputs": []
    },
    {
      "cell_type": "code",
      "metadata": {
        "id": "-_a1noNQezD1"
      },
      "source": [
        "x_new = pd.concat([x_train_1,x_val_1])"
      ],
      "execution_count": null,
      "outputs": []
    },
    {
      "cell_type": "code",
      "metadata": {
        "colab": {
          "base_uri": "https://localhost:8080/",
          "height": 473
        },
        "id": "0er8v_fpfHNA",
        "outputId": "5f502531-10c3-4427-b04c-987300cb4a03"
      },
      "source": [
        "x_new"
      ],
      "execution_count": null,
      "outputs": [
        {
          "output_type": "execute_result",
          "data": {
            "text/html": [
              "<div>\n",
              "<style scoped>\n",
              "    .dataframe tbody tr th:only-of-type {\n",
              "        vertical-align: middle;\n",
              "    }\n",
              "\n",
              "    .dataframe tbody tr th {\n",
              "        vertical-align: top;\n",
              "    }\n",
              "\n",
              "    .dataframe thead th {\n",
              "        text-align: right;\n",
              "    }\n",
              "</style>\n",
              "<table border=\"1\" class=\"dataframe\">\n",
              "  <thead>\n",
              "    <tr style=\"text-align: right;\">\n",
              "      <th></th>\n",
              "      <th>bin_mileage</th>\n",
              "      <th>has_turbo</th>\n",
              "      <th>Wheel</th>\n",
              "      <th>Leather interior</th>\n",
              "      <th>Category</th>\n",
              "      <th>Engine volume</th>\n",
              "      <th>Gear box type</th>\n",
              "      <th>Airbags</th>\n",
              "      <th>Fuel type</th>\n",
              "      <th>Levy</th>\n",
              "      <th>Color</th>\n",
              "    </tr>\n",
              "  </thead>\n",
              "  <tbody>\n",
              "    <tr>\n",
              "      <th>11388</th>\n",
              "      <td>10</td>\n",
              "      <td>0</td>\n",
              "      <td>0</td>\n",
              "      <td>0</td>\n",
              "      <td>3</td>\n",
              "      <td>1.4</td>\n",
              "      <td>1</td>\n",
              "      <td>2</td>\n",
              "      <td>5</td>\n",
              "      <td>0</td>\n",
              "      <td>1</td>\n",
              "    </tr>\n",
              "    <tr>\n",
              "      <th>8666</th>\n",
              "      <td>5</td>\n",
              "      <td>0</td>\n",
              "      <td>0</td>\n",
              "      <td>1</td>\n",
              "      <td>9</td>\n",
              "      <td>1.8</td>\n",
              "      <td>0</td>\n",
              "      <td>12</td>\n",
              "      <td>5</td>\n",
              "      <td>697</td>\n",
              "      <td>1</td>\n",
              "    </tr>\n",
              "    <tr>\n",
              "      <th>4218</th>\n",
              "      <td>1</td>\n",
              "      <td>0</td>\n",
              "      <td>1</td>\n",
              "      <td>0</td>\n",
              "      <td>3</td>\n",
              "      <td>1.3</td>\n",
              "      <td>3</td>\n",
              "      <td>2</td>\n",
              "      <td>5</td>\n",
              "      <td>0</td>\n",
              "      <td>12</td>\n",
              "    </tr>\n",
              "    <tr>\n",
              "      <th>3663</th>\n",
              "      <td>7</td>\n",
              "      <td>0</td>\n",
              "      <td>0</td>\n",
              "      <td>0</td>\n",
              "      <td>3</td>\n",
              "      <td>1.5</td>\n",
              "      <td>0</td>\n",
              "      <td>9</td>\n",
              "      <td>2</td>\n",
              "      <td>988</td>\n",
              "      <td>12</td>\n",
              "    </tr>\n",
              "    <tr>\n",
              "      <th>6441</th>\n",
              "      <td>4</td>\n",
              "      <td>0</td>\n",
              "      <td>0</td>\n",
              "      <td>1</td>\n",
              "      <td>9</td>\n",
              "      <td>2.0</td>\n",
              "      <td>0</td>\n",
              "      <td>12</td>\n",
              "      <td>5</td>\n",
              "      <td>765</td>\n",
              "      <td>14</td>\n",
              "    </tr>\n",
              "    <tr>\n",
              "      <th>...</th>\n",
              "      <td>...</td>\n",
              "      <td>...</td>\n",
              "      <td>...</td>\n",
              "      <td>...</td>\n",
              "      <td>...</td>\n",
              "      <td>...</td>\n",
              "      <td>...</td>\n",
              "      <td>...</td>\n",
              "      <td>...</td>\n",
              "      <td>...</td>\n",
              "      <td>...</td>\n",
              "    </tr>\n",
              "    <tr>\n",
              "      <th>12181</th>\n",
              "      <td>8</td>\n",
              "      <td>0</td>\n",
              "      <td>0</td>\n",
              "      <td>0</td>\n",
              "      <td>4</td>\n",
              "      <td>2.5</td>\n",
              "      <td>2</td>\n",
              "      <td>8</td>\n",
              "      <td>5</td>\n",
              "      <td>779</td>\n",
              "      <td>12</td>\n",
              "    </tr>\n",
              "    <tr>\n",
              "      <th>4636</th>\n",
              "      <td>1</td>\n",
              "      <td>1</td>\n",
              "      <td>0</td>\n",
              "      <td>0</td>\n",
              "      <td>2</td>\n",
              "      <td>1.7</td>\n",
              "      <td>1</td>\n",
              "      <td>0</td>\n",
              "      <td>1</td>\n",
              "      <td>0</td>\n",
              "      <td>2</td>\n",
              "    </tr>\n",
              "    <tr>\n",
              "      <th>10187</th>\n",
              "      <td>4</td>\n",
              "      <td>0</td>\n",
              "      <td>0</td>\n",
              "      <td>1</td>\n",
              "      <td>9</td>\n",
              "      <td>2.5</td>\n",
              "      <td>0</td>\n",
              "      <td>0</td>\n",
              "      <td>5</td>\n",
              "      <td>779</td>\n",
              "      <td>14</td>\n",
              "    </tr>\n",
              "    <tr>\n",
              "      <th>1980</th>\n",
              "      <td>6</td>\n",
              "      <td>0</td>\n",
              "      <td>0</td>\n",
              "      <td>1</td>\n",
              "      <td>4</td>\n",
              "      <td>2.0</td>\n",
              "      <td>0</td>\n",
              "      <td>4</td>\n",
              "      <td>1</td>\n",
              "      <td>707</td>\n",
              "      <td>1</td>\n",
              "    </tr>\n",
              "    <tr>\n",
              "      <th>16291</th>\n",
              "      <td>3</td>\n",
              "      <td>0</td>\n",
              "      <td>0</td>\n",
              "      <td>1</td>\n",
              "      <td>4</td>\n",
              "      <td>2.0</td>\n",
              "      <td>0</td>\n",
              "      <td>4</td>\n",
              "      <td>1</td>\n",
              "      <td>1282</td>\n",
              "      <td>12</td>\n",
              "    </tr>\n",
              "  </tbody>\n",
              "</table>\n",
              "<p>18664 rows × 11 columns</p>\n",
              "</div>"
            ],
            "text/plain": [
              "       bin_mileage  has_turbo  Wheel  ...  Fuel type  Levy  Color\n",
              "11388           10          0      0  ...          5     0      1\n",
              "8666             5          0      0  ...          5   697      1\n",
              "4218             1          0      1  ...          5     0     12\n",
              "3663             7          0      0  ...          2   988     12\n",
              "6441             4          0      0  ...          5   765     14\n",
              "...            ...        ...    ...  ...        ...   ...    ...\n",
              "12181            8          0      0  ...          5   779     12\n",
              "4636             1          1      0  ...          1     0      2\n",
              "10187            4          0      0  ...          5   779     14\n",
              "1980             6          0      0  ...          1   707      1\n",
              "16291            3          0      0  ...          1  1282     12\n",
              "\n",
              "[18664 rows x 11 columns]"
            ]
          },
          "metadata": {},
          "execution_count": 48
        }
      ]
    },
    {
      "cell_type": "code",
      "metadata": {
        "colab": {
          "base_uri": "https://localhost:8080/"
        },
        "id": "Ho4aftAXfRE4",
        "outputId": "d7259758-9587-4317-f72e-eb4bd64c88ae"
      },
      "source": [
        "y_new = pd.concat([y_train, y_val]) \n",
        "y_new"
      ],
      "execution_count": null,
      "outputs": [
        {
          "output_type": "execute_result",
          "data": {
            "text/plain": [
              "11388     7.693937\n",
              "8666      8.313117\n",
              "4218      3.688879\n",
              "3663      9.115480\n",
              "6441      8.610319\n",
              "           ...    \n",
              "12181    10.552160\n",
              "4636      8.966994\n",
              "10187     9.436998\n",
              "1980     10.175612\n",
              "16291     8.768574\n",
              "Name: Price, Length: 18664, dtype: float64"
            ]
          },
          "metadata": {},
          "execution_count": 112
        }
      ]
    },
    {
      "cell_type": "code",
      "metadata": {
        "id": "e6nkubWqPIBf"
      },
      "source": [
        "tester = tester[col]"
      ],
      "execution_count": null,
      "outputs": []
    },
    {
      "cell_type": "code",
      "metadata": {
        "id": "LcI9wVsaOqN5"
      },
      "source": [
        "\n",
        "# scale test\n",
        "\n",
        "for i in cater:\n",
        "    tester[i] = ft[i].transform(tester[i])"
      ],
      "execution_count": null,
      "outputs": []
    },
    {
      "cell_type": "code",
      "metadata": {
        "colab": {
          "base_uri": "https://localhost:8080/"
        },
        "id": "N3BPjFxifhS8",
        "outputId": "1ed46068-05fa-4739-ebaa-16e6ad3575b8"
      },
      "source": [
        "rf_score = cross_val(x_new, y_new, tester, RandomForestRegressor, rf_params)"
      ],
      "execution_count": null,
      "outputs": [
        {
          "output_type": "stream",
          "name": "stdout",
          "text": [
            "Fold: 1\n",
            " RMSLE: 0.9955341952276634\n",
            "--------------------------------------------------\n",
            "Fold: 2\n",
            " RMSLE: 0.9800500405705779\n",
            "--------------------------------------------------\n",
            "Fold: 3\n",
            " RMSLE: 1.0130800101971562\n",
            "--------------------------------------------------\n",
            "Fold: 4\n",
            " RMSLE: 1.055822064654913\n",
            "--------------------------------------------------\n",
            "Fold: 5\n",
            " RMSLE: 0.9481159913940213\n",
            "--------------------------------------------------\n",
            "Fold: 6\n",
            " RMSLE: 1.073259018927402\n",
            "--------------------------------------------------\n",
            "Fold: 7\n",
            " RMSLE: 0.9523366230157585\n",
            "--------------------------------------------------\n",
            "\n",
            "mean: 1.0025997062839276\n"
          ]
        }
      ]
    },
    {
      "cell_type": "code",
      "metadata": {
        "id": "3OEHpL11ha6d"
      },
      "source": [
        "pred = rf_score.predict(x_val_1)"
      ],
      "execution_count": null,
      "outputs": []
    },
    {
      "cell_type": "code",
      "metadata": {
        "colab": {
          "base_uri": "https://localhost:8080/"
        },
        "id": "bcC2Ag0HQ9ZA",
        "outputId": "e48f0d1b-f5e1-4c68-ed26-3d0be0b222aa"
      },
      "source": [
        "print(f\"rmsle: {rmsle(pred,y_val)}\")\n",
        "print(f\"mae: {mae(pred,y_val)}\")\n",
        "print(f\"rmse: {rmse(pred,y_val)}\")"
      ],
      "execution_count": null,
      "outputs": [
        {
          "output_type": "stream",
          "name": "stdout",
          "text": [
            "rmsle: 0.5294283816690348\n",
            "mae: 3502.4443384682254\n",
            "rmse: 8407.10299026862\n"
          ]
        }
      ]
    },
    {
      "cell_type": "code",
      "metadata": {
        "colab": {
          "base_uri": "https://localhost:8080/",
          "height": 185
        },
        "id": "O-xdjeDRRowH",
        "outputId": "30d9cee2-341b-4a8a-af07-77469fbd455e"
      },
      "source": [
        "plt.figure(figsize=(17, 8)) \n",
        "\n",
        "sns.regplot(x = np.exp(pred), y = np.exp(y_val)) \n",
        "plt.ylabel(\"Actual\")\n",
        "plt.xlabel(\"Prediction\") \n",
        "plt.title(\"actual vs predict\")"
      ],
      "execution_count": null,
      "outputs": [
        {
          "output_type": "execute_result",
          "data": {
            "text/plain": [
              "Text(0.5, 1.0, 'actual vs predict')"
            ]
          },
          "metadata": {},
          "execution_count": 131
        },
        {
          "output_type": "display_data",
          "data": {
            "image/png": "[encoded data removed]",
            "text/plain": [
              "<Figure size 1224x576 with 1 Axes>"
            ]
          },
          "metadata": {
            "needs_background": "light"
          }
        }
      ]
    },
    {
      "cell_type": "markdown",
      "metadata": {
        "id": "rrECKKFWSFjS"
      },
      "source": [
        "Blending test"
      ]
    },
    {
      "cell_type": "code",
      "metadata": {
        "colab": {
          "base_uri": "https://localhost:8080/"
        },
        "id": "s6vi4LTJRDsT",
        "outputId": "5f2d8a81-5e8f-4f17-b55f-83d6846d23d0"
      },
      "source": [
        "y_true"
      ],
      "execution_count": null,
      "outputs": [
        {
          "output_type": "execute_result",
          "data": {
            "text/plain": [
              "[array([ 9879.44738321, 18022.90260365,  7378.13589375, ...,\n",
              "        20442.77774066, 33479.9362047 ,  4315.21856123]),\n",
              " array([10384.2846029 , 17524.1940571 ,  7525.46647396, ...,\n",
              "        22114.70648997, 39053.23803791,  3731.47127227]),\n",
              " array([14758.72531656, 17517.84052316,  7851.43662754, ...,\n",
              "        23423.71492038, 42999.56300955,  4466.10112343]),\n",
              " array([10546.13573157, 16724.02626199,  8000.86094062, ...,\n",
              "        28616.72254935, 42815.43337861,  3994.67147947]),\n",
              " array([11816.5409381 , 16867.55980361,  5893.38951524, ...,\n",
              "        24587.31792188, 45775.721177  ,  4584.06050184]),\n",
              " array([11581.71624102, 16670.60095987,  6055.82793288, ...,\n",
              "        19655.89861383, 41595.90422523,  4074.68507459]),\n",
              " array([12674.97556758, 16893.80841608,  8541.97007744, ...,\n",
              "        29476.59744324, 42476.0906557 ,  1806.27976651])]"
            ]
          },
          "metadata": {},
          "execution_count": 118
        }
      ]
    },
    {
      "cell_type": "code",
      "metadata": {
        "id": "WK23RXYCRODL"
      },
      "source": [
        "# blending predict\n",
        "\n",
        "blend = np.mean(np.column_stack(y_true), axis=1)"
      ],
      "execution_count": null,
      "outputs": []
    },
    {
      "cell_type": "code",
      "metadata": {
        "id": "B_6EtZhvRkhI"
      },
      "source": [
        "sub = pd.read_csv(\"/content/drive/MyDrive/Car price/submission.csv\")"
      ],
      "execution_count": null,
      "outputs": []
    },
    {
      "cell_type": "code",
      "metadata": {
        "colab": {
          "base_uri": "https://localhost:8080/",
          "height": 419
        },
        "id": "xJXrUuqnSQx1",
        "outputId": "8ac193ba-851c-48bb-f7bf-60611c4f6f24"
      },
      "source": [
        "sub"
      ],
      "execution_count": null,
      "outputs": [
        {
          "output_type": "execute_result",
          "data": {
            "text/html": [
              "<div>\n",
              "<style scoped>\n",
              "    .dataframe tbody tr th:only-of-type {\n",
              "        vertical-align: middle;\n",
              "    }\n",
              "\n",
              "    .dataframe tbody tr th {\n",
              "        vertical-align: top;\n",
              "    }\n",
              "\n",
              "    .dataframe thead th {\n",
              "        text-align: right;\n",
              "    }\n",
              "</style>\n",
              "<table border=\"1\" class=\"dataframe\">\n",
              "  <thead>\n",
              "    <tr style=\"text-align: right;\">\n",
              "      <th></th>\n",
              "      <th>Price</th>\n",
              "    </tr>\n",
              "  </thead>\n",
              "  <tbody>\n",
              "    <tr>\n",
              "      <th>0</th>\n",
              "      <td>0</td>\n",
              "    </tr>\n",
              "    <tr>\n",
              "      <th>1</th>\n",
              "      <td>0</td>\n",
              "    </tr>\n",
              "    <tr>\n",
              "      <th>2</th>\n",
              "      <td>0</td>\n",
              "    </tr>\n",
              "    <tr>\n",
              "      <th>3</th>\n",
              "      <td>0</td>\n",
              "    </tr>\n",
              "    <tr>\n",
              "      <th>4</th>\n",
              "      <td>0</td>\n",
              "    </tr>\n",
              "    <tr>\n",
              "      <th>...</th>\n",
              "      <td>...</td>\n",
              "    </tr>\n",
              "    <tr>\n",
              "      <th>8240</th>\n",
              "      <td>0</td>\n",
              "    </tr>\n",
              "    <tr>\n",
              "      <th>8241</th>\n",
              "      <td>0</td>\n",
              "    </tr>\n",
              "    <tr>\n",
              "      <th>8242</th>\n",
              "      <td>0</td>\n",
              "    </tr>\n",
              "    <tr>\n",
              "      <th>8243</th>\n",
              "      <td>0</td>\n",
              "    </tr>\n",
              "    <tr>\n",
              "      <th>8244</th>\n",
              "      <td>0</td>\n",
              "    </tr>\n",
              "  </tbody>\n",
              "</table>\n",
              "<p>8245 rows × 1 columns</p>\n",
              "</div>"
            ],
            "text/plain": [
              "      Price\n",
              "0         0\n",
              "1         0\n",
              "2         0\n",
              "3         0\n",
              "4         0\n",
              "...     ...\n",
              "8240      0\n",
              "8241      0\n",
              "8242      0\n",
              "8243      0\n",
              "8244      0\n",
              "\n",
              "[8245 rows x 1 columns]"
            ]
          },
          "metadata": {},
          "execution_count": 128
        }
      ]
    },
    {
      "cell_type": "code",
      "metadata": {
        "colab": {
          "base_uri": "https://localhost:8080/",
          "height": 419
        },
        "id": "cXxHzzcfSYSB",
        "outputId": "d013fbb1-55e0-4afe-d4b6-19c6aadf83a0"
      },
      "source": [
        "sub.Price = blend\n",
        "sub"
      ],
      "execution_count": null,
      "outputs": [
        {
          "output_type": "execute_result",
          "data": {
            "text/html": [
              "<div>\n",
              "<style scoped>\n",
              "    .dataframe tbody tr th:only-of-type {\n",
              "        vertical-align: middle;\n",
              "    }\n",
              "\n",
              "    .dataframe tbody tr th {\n",
              "        vertical-align: top;\n",
              "    }\n",
              "\n",
              "    .dataframe thead th {\n",
              "        text-align: right;\n",
              "    }\n",
              "</style>\n",
              "<table border=\"1\" class=\"dataframe\">\n",
              "  <thead>\n",
              "    <tr style=\"text-align: right;\">\n",
              "      <th></th>\n",
              "      <th>Price</th>\n",
              "    </tr>\n",
              "  </thead>\n",
              "  <tbody>\n",
              "    <tr>\n",
              "      <th>0</th>\n",
              "      <td>11663.117969</td>\n",
              "    </tr>\n",
              "    <tr>\n",
              "      <th>1</th>\n",
              "      <td>17174.418946</td>\n",
              "    </tr>\n",
              "    <tr>\n",
              "      <th>2</th>\n",
              "      <td>7321.012494</td>\n",
              "    </tr>\n",
              "    <tr>\n",
              "      <th>3</th>\n",
              "      <td>3409.904247</td>\n",
              "    </tr>\n",
              "    <tr>\n",
              "      <th>4</th>\n",
              "      <td>5559.570490</td>\n",
              "    </tr>\n",
              "    <tr>\n",
              "      <th>...</th>\n",
              "      <td>...</td>\n",
              "    </tr>\n",
              "    <tr>\n",
              "      <th>8240</th>\n",
              "      <td>9496.968276</td>\n",
              "    </tr>\n",
              "    <tr>\n",
              "      <th>8241</th>\n",
              "      <td>16213.358481</td>\n",
              "    </tr>\n",
              "    <tr>\n",
              "      <th>8242</th>\n",
              "      <td>24045.390811</td>\n",
              "    </tr>\n",
              "    <tr>\n",
              "      <th>8243</th>\n",
              "      <td>41170.840956</td>\n",
              "    </tr>\n",
              "    <tr>\n",
              "      <th>8244</th>\n",
              "      <td>3853.212540</td>\n",
              "    </tr>\n",
              "  </tbody>\n",
              "</table>\n",
              "<p>8245 rows × 1 columns</p>\n",
              "</div>"
            ],
            "text/plain": [
              "             Price\n",
              "0     11663.117969\n",
              "1     17174.418946\n",
              "2      7321.012494\n",
              "3      3409.904247\n",
              "4      5559.570490\n",
              "...            ...\n",
              "8240   9496.968276\n",
              "8241  16213.358481\n",
              "8242  24045.390811\n",
              "8243  41170.840956\n",
              "8244   3853.212540\n",
              "\n",
              "[8245 rows x 1 columns]"
            ]
          },
          "metadata": {},
          "execution_count": 130
        }
      ]
    },
    {
      "cell_type": "code",
      "metadata": {
        "id": "kkIDy77uScHC"
      },
      "source": [
        "\n",
        "# make a submission\n",
        "\n",
        "sub.to_csv(\"my_subs.csv\", index=False)"
      ],
      "execution_count": null,
      "outputs": []
    }
  ]
}